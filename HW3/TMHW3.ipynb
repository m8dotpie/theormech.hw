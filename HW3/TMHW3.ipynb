{
 "cells": [
  {
   "cell_type": "code",
   "execution_count": 1,
   "metadata": {},
   "outputs": [],
   "source": [
    "import numpy as np\n",
    "import sympy as sp\n",
    "import matplotlib.pyplot as plt\n",
    "from sympy import Symbol, Point2D, Point3D\n",
    "from matplotlib.animation import FuncAnimation, PillowWriter\n",
    "from matplotlib.patches import Polygon, Circle"
   ]
  },
  {
   "cell_type": "code",
   "execution_count": 2,
   "metadata": {},
   "outputs": [],
   "source": [
    "\n",
    "class SimPlot:\n",
    "    fig, ax = None, None\n",
    "\n",
    "    lines = []\n",
    "    titles = []\n",
    "    points = []\n",
    "    vectors = []\n",
    "    patches = []\n",
    "\n",
    "    def __init__(self, xlim, ylim):\n",
    "        self.fig, self.ax = plt.subplots()\n",
    "        self.ax.set_xlim(xlim[0], xlim[1])\n",
    "        self.ax.set_ylim(ylim[0], ylim[1])\n",
    "        self.ax.set_aspect(\"equal\")\n",
    "\n",
    "    def plot_lines(self, in_lines, in_colors=[]):\n",
    "        colors = in_colors + ['black'] * (len(in_lines) - len(in_colors))\n",
    "\n",
    "        self.lines.extend([\n",
    "            plt.plot([u[0], v[0]], [u[1], v[1]], color=color)\n",
    "            for [u, v], color in zip(in_lines, colors)\n",
    "        ])\n",
    "\n",
    "    def plot_points(self, in_points, in_sizes=[], in_colors=[]):\n",
    "        colors = in_colors + ['black'] * (len(in_points) - len(in_colors))\n",
    "        sizes = in_sizes + [3] * (len(in_points) - len(in_sizes))\n",
    "        \n",
    "        self.points.extend([\n",
    "            plt.plot([x], [y], marker='o', markersize=size, color=color)\n",
    "            for [x, y], size, color in zip(in_points, sizes, colors)\n",
    "        ])\n",
    "\n",
    "    def plot_titles(self, coords, titles, ofx=0, ofy=0):\n",
    "        self.titles.extend([\n",
    "            self.ax.text(x + ofx, y + ofy, title)\n",
    "            for [x, y], title in zip(coords, titles)\n",
    "        ])\n",
    "\n",
    "    def plot_vectors(self, vectors_u, vectors_v, titles, scale=1, in_colors=[]):\n",
    "        colors = in_colors + ['black'] * (len(vectors_u) - len(in_colors))\n",
    "        self.vectors.extend([\n",
    "            plt.quiver(float(u[0]), float(u[1]), float(v[0]), float(v[1]), color=color, scale=scale, angles='xy', units='xy', scale_units='xy')\n",
    "            for u, v, color in zip(vectors_u, vectors_v, colors)\n",
    "        ])\n",
    "\n",
    "        self.plot_titles([u + v / scale for u, v in zip(vectors_u, vectors_v)], titles)\n",
    "\n",
    "    def add_patch(self, patch):\n",
    "        self.ax.add_patch(patch)\n",
    "        self.patches.append(patch)\n",
    "    \n",
    "\n",
    "    def clear_plot(self):\n",
    "        while len(self.lines):\n",
    "            self.lines[-1][0].remove()\n",
    "            self.lines.pop()\n",
    "\n",
    "        while len(self.titles):\n",
    "            self.titles[-1].remove()\n",
    "            self.titles.pop()\n",
    "\n",
    "        while len(self.points):\n",
    "            self.points[-1][0].remove()\n",
    "            self.points.pop()\n",
    "\n",
    "        while len(self.vectors):\n",
    "            self.vectors[-1].remove()\n",
    "            self.vectors.pop()\n",
    "\n",
    "        while len(self.patches):\n",
    "            self.patches[-1].remove()\n",
    "            self.patches.pop()"
   ]
  },
  {
   "cell_type": "markdown",
   "metadata": {},
   "source": [
    "# Task 1"
   ]
  },
  {
   "cell_type": "code",
   "execution_count": 3,
   "metadata": {},
   "outputs": [],
   "source": [
    "R = 18\n",
    "O1 = Point2D(0, 0)\n",
    "O2 = Point2D(2 * R, 0)\n",
    "O1O = O2A = 20"
   ]
  },
  {
   "cell_type": "code",
   "execution_count": 4,
   "metadata": {},
   "outputs": [],
   "source": [
    "t = Symbol('t')\n",
    "phi1_t = np.pi * t**3 / 6\n",
    "sig2_t = np.pi * 6 * t**2\n",
    "phi2_t = sig2_t / R"
   ]
  },
  {
   "cell_type": "code",
   "execution_count": 5,
   "metadata": {},
   "outputs": [
    {
     "data": {
      "text/latex": [
       "$\\displaystyle 1.73205080756887$"
      ],
      "text/plain": [
       "1.73205080756887"
      ]
     },
     "execution_count": 5,
     "metadata": {},
     "output_type": "execute_result"
    }
   ],
   "source": [
    "t_reach = sp.solve(sig2_t / R - np.pi)[1]\n",
    "t_reach"
   ]
  },
  {
   "cell_type": "code",
   "execution_count": 6,
   "metadata": {},
   "outputs": [],
   "source": [
    "\n",
    "O = O1O * Point2D(sp.cos(phi1_t), sp.sin(phi1_t))\n",
    "A = Point2D(O[0] + 2 * R, O[1])\n",
    "M = Point2D(-R * sp.cos(phi2_t) + ((O + A) / 2)[0], R * sp.sin(phi2_t) + ((O + A) / 2)[1])\n",
    "Os = (O + A) / 2"
   ]
  },
  {
   "cell_type": "code",
   "execution_count": 7,
   "metadata": {},
   "outputs": [],
   "source": [
    "W1  = Point3D(0, 0, sp.diff(phi1_t))\n",
    "W2 = Point3D(0, 0, sp.diff(phi2_t))\n",
    "E1 = Point3D(0, 0, sp.diff(W1[2]))\n",
    "E2 = Point3D(0, 0, sp.diff(W2[2]))\n",
    "\n",
    "Vos = Point2D(sp.diff(Os[0]), sp.diff(Os[1]))\n",
    "Mxy = M - Os\n",
    "\n",
    "Vm_tr =  Vos + Point2D(np.cross(W1, Point3D(Mxy[0], Mxy[1], 0))[0:2])\n",
    "Vm_rel = Point2D(sp.diff(Mxy[0]), sp.diff(Mxy[1]))\n",
    "\n",
    "Am_tr = Point2D(sp.diff(Vos[0]), sp.diff(Vos[1])) + Point2D(np.cross(E1, Mxy)[0:2]) + Point2D(np.cross(W1, np.cross(W1, Mxy))[0:2])\n",
    "Am_rel = Point2D(sp.diff(sp.diff(Mxy[0])), sp.diff(sp.diff(Mxy[1])))\n",
    "Am_cor = 2 * Point2D(np.cross(W1, Point3D(Vm_rel[0], Vm_rel[1], 0))[0:2])"
   ]
  },
  {
   "cell_type": "code",
   "execution_count": 8,
   "metadata": {},
   "outputs": [],
   "source": [
    "task1 = SimPlot([-50, 70], [-60, 60])\n",
    "task1.ax.axis('off')\n",
    "\n",
    "ln, = plt.plot([], [], 'b--')\n",
    "\n",
    "def plot_semicircle(origin):\n",
    "    xs = [R * np.cos(i) + origin[0] for i in np.linspace(0, np.pi, 120)]\n",
    "    ys = [R * np.sin(i) + origin[1] for i in np.linspace(0, np.pi, 120)]\n",
    "\n",
    "    xy = [[x, y] for x, y in zip(xs, ys)]\n",
    "\n",
    "    poly = Polygon(xy, fill=False, hatch='///', color='black')\n",
    "\n",
    "    return poly\n",
    "\n",
    "def init_anim():\n",
    "    return ln,\n",
    "\n",
    "def update_anim(frame):\n",
    "    task1.clear_plot()\n",
    "    [O_frame, A_frame, O1_frame, O2_frame, M_frame] = [P.subs(t, frame).evalf() for P in [O, A, O1, O2, M]]\n",
    "    [Vm_rel_frame, Vm_tr_frame] = [Vm_rel.subs(t, frame).evalf(), Vm_tr.subs(t, frame).evalf()]\n",
    "    [Am_rel_frame, Am_tr_frame, Am_cor_frame] = [P.subs(t, frame).evalf() for P in [Am_rel, Am_tr, Am_cor]]\n",
    "\n",
    "    if frame > t_reach:\n",
    "        Vm_rel_frame = Point2D(0, 0)\n",
    "        Vm_tr_frame =  Vos.subs(t, frame).evalf()\n",
    "\n",
    "        Am_rel_frame = Point2D(0, 0)\n",
    "        Am_cor_frame = Point2D(0, 0)\n",
    "        M_frame = A_frame\n",
    "\n",
    "    task1.plot_points([O_frame, A_frame, O1_frame, O2_frame])\n",
    "    task1.plot_points([M_frame], in_sizes=[5], in_colors=['red'])\n",
    "    task1.plot_lines([[O2_frame, A_frame], [O1_frame, O_frame]])\n",
    "    task1.plot_titles([O_frame, A_frame, O1_frame, O2_frame, M_frame], \n",
    "                        ['O', 'A', r'$O_1$', r'$O_2$', 'M'], ofx=0, ofy=3)\n",
    "\n",
    "    if frame > t_reach:\n",
    "        task1.plot_vectors([M_frame], [Vm_tr_frame], [r'$V_M^{tr}}$'], scale=6)\n",
    "        task1.plot_vectors([M_frame], [Am_tr_frame], [r'$a_M^{tr}$'], scale=60, in_colors=['red'])\n",
    "    else:\n",
    "        # Velocity components\n",
    "        task1.plot_vectors([M_frame] * 2, [Vm_tr_frame, Vm_rel_frame], [r'$\\vec{V}_M^{tr}$', r'$\\vec{V}_M^{rel}$'], scale=3)\n",
    "        # Total velocity\n",
    "        task1.plot_vectors([M_frame], [Vm_tr_frame + Vm_rel_frame], [r'$\\vec{V}_M$'], scale=5, in_colors=['black'])\n",
    "        # Acceleration components\n",
    "        task1.plot_vectors([M_frame], [Am_tr_frame], [r'$vec{a}_M^{tr}$'], scale=10, in_colors=['red'])\n",
    "        task1.plot_vectors([M_frame], [Am_rel_frame], [r'$\\vec{a}_M^{rel}$'], scale=7, in_colors=['blue'])\n",
    "        task1.plot_vectors([M_frame], [Am_cor_frame], [r'$\\vec{a}_M^{cor}$'], scale=15, in_colors=['green'])\n",
    "        # Total acceleration\n",
    "        task1.plot_vectors([M_frame], [Am_tr_frame + Am_rel_frame + Am_cor_frame], [r'$\\vec{a}_M$'], scale=5, in_colors=['red'])\n",
    "\n",
    "    task1.add_patch(plot_semicircle((O_frame + A_frame) / 2))\n",
    "\n",
    "    return ln,\n",
    "t_end = float(sp.solve(phi1_t - 4 * np.pi)[0])\n",
    "frames = np.linspace(0, t_end, 300)\n",
    "\n",
    "anim = FuncAnimation(task1.fig, update_anim, frames=frames, init_func=init_anim, blit=True)\n",
    "anim.save('both1.gif', dpi=300, writer=PillowWriter(fps=60))\n",
    "plt.close('all')"
   ]
  },
  {
   "cell_type": "markdown",
   "metadata": {},
   "source": [
    "# Task 2"
   ]
  },
  {
   "cell_type": "code",
   "execution_count": 9,
   "metadata": {},
   "outputs": [],
   "source": [
    "R = 30"
   ]
  },
  {
   "cell_type": "code",
   "execution_count": 10,
   "metadata": {},
   "outputs": [],
   "source": [
    "t = Symbol('t')\n",
    "sig2_t = 75 * np.pi * (0.1 *  t +  0.3 * t**2)\n",
    "phi1_t = 2 * t - 0.3 * t**2\n",
    "phi2_t = sig2_t / R\n",
    "\n",
    "phi_O = phi1_t - np.pi / 2\n",
    "phi_M = phi_O + phi2_t"
   ]
  },
  {
   "cell_type": "code",
   "execution_count": 11,
   "metadata": {},
   "outputs": [],
   "source": [
    "O1 = Point2D(0, 0)\n",
    "O2 = R * Point2D(sp.cos(phi1_t), sp.sin(phi1_t))\n",
    "O = R * Point2D(sp.cos(phi_O), sp.sin(phi_O)) + O2\n",
    "M = R * Point2D(sp.cos(phi_M), sp.sin(phi_M)) + O2"
   ]
  },
  {
   "cell_type": "code",
   "execution_count": 12,
   "metadata": {},
   "outputs": [],
   "source": [
    "W1 = Point3D(0, 0, sp.diff(phi1_t))\n",
    "W2 = Point3D(0, 0, sp.diff(phi2_t))\n",
    "E1 = Point3D(0, 0, sp.diff(W1[2]))\n",
    "E2 = Point3D(0, 0, sp.diff(W2[2]))\n",
    "\n",
    "Mxy = M - O2\n",
    "Vo2 = Point2D(sp.diff(O2[0]), sp.diff(O2[1]))\n",
    "Vm_tr = Vo2 + Point2D(np.cross(W1, Point3D(Mxy[0], Mxy[1], 0)))\n",
    "Vm_rel = Point2D(sp.diff(Mxy[0]), sp.diff(Mxy[1]))\n",
    "\n",
    "Am_tr = Point2D(sp.diff(Vo2[0]), sp.diff(Vo2[1])) + Point2D(np.cross(E1, Mxy)[0:2]) + Point2D(np.cross(W1, np.cross(W1, Mxy))[0:2])\n",
    "Am_rel = Point2D(sp.diff(sp.diff(Mxy[0])), sp.diff(sp.diff(Mxy[1])))\n",
    "Am_cor = 2 * Point2D(np.cross(W1, Point3D(Vm_rel[0], Vm_rel[1], 0))[0:2])"
   ]
  },
  {
   "cell_type": "code",
   "execution_count": 13,
   "metadata": {},
   "outputs": [],
   "source": [
    "task2 = SimPlot([-100, 100], [-100, 100])\n",
    "task2.ax.axis('off')\n",
    "\n",
    "ln, = plt.plot([], [], 'b--')\n",
    "\n",
    "def init_anim():\n",
    "    return ln,\n",
    "\n",
    "def update_anim(frame):\n",
    "    task2.clear_plot()\n",
    "    [O1_frame, O2_frame, O_frame, M_frame] = [P.subs(t, frame).evalf() for P in [O1, O2, O, M]]\n",
    "    [Vo2_frame, Vm_tr_frame, Vm_rel_frame] = [P.subs(t, frame).evalf() for P in [Vo2, Vm_tr, Vm_rel]]\n",
    "    [Am_tr_frame, Am_rel_frame, Am_cor_frame] = [P.subs(t, frame).evalf() for P in [Am_tr, Am_rel, Am_cor]]\n",
    "\n",
    "    task2.plot_points([O1_frame, O2_frame, O_frame])\n",
    "    task2.plot_points([M_frame], in_sizes=[5], in_colors=['red'])\n",
    "    task2.add_patch(Circle(O2_frame, R, fill=False))\n",
    "    task2.plot_titles([O1_frame, O_frame, M_frame], [r'$O_1$', 'O', 'M'], ofx=3)\n",
    "\n",
    "    # Velocity components\n",
    "    task2.plot_vectors([M_frame], [Vm_rel_frame], [r'$\\vec{V}_{O}^{rel}$'], scale=15)\n",
    "    task2.plot_vectors([M_frame], [Vm_tr_frame], [r'$\\vec{V}_M^{tr}$'], scale=2)\n",
    "    # Total veclocity\n",
    "    task2.plot_vectors([M_frame], [Vm_tr_frame + Vm_rel_frame], [r'$\\vec{V}_M$'], scale=30, in_colors=['black'])\n",
    "    # Acceleration components\n",
    "    task2.plot_vectors([M_frame], [Am_tr_frame], [r'$\\vec{a}_M^{tr}$'], scale=5, in_colors=['red'])\n",
    "    task2.plot_vectors([M_frame], [Am_rel_frame], [r'$\\vec{a}_M^{rel}$'], scale=300, in_colors=['blue'])\n",
    "    task2.plot_vectors([M_frame], [Am_cor_frame], [r'$\\vec{a}_M^{cor}$'], scale=30, in_colors=['green'])\n",
    "    # Total acceleration\n",
    "    task2.plot_vectors([M_frame], [Am_tr_frame + Am_rel_frame + Am_cor_frame], [r'$\\vec{a}_M$'], scale=300, in_colors=['red'])\n",
    "    return ln,\n",
    "\n",
    "t_zero = float(sp.solve(phi1_t)[1])\n",
    "frames = np.linspace(0, t_zero, 300)\n",
    "\n",
    "anim = FuncAnimation(task2.fig, update_anim, frames=frames, init_func=init_anim, blit=True)\n",
    "anim.save('both2.gif', dpi=300, writer=PillowWriter(fps=60))\n",
    "plt.close('all')"
   ]
  },
  {
   "cell_type": "code",
   "execution_count": null,
   "metadata": {},
   "outputs": [],
   "source": []
  },
  {
   "cell_type": "markdown",
   "metadata": {},
   "source": []
  }
 ],
 "metadata": {
  "kernelspec": {
   "display_name": "Python 3.9.12 ('base')",
   "language": "python",
   "name": "python3"
  },
  "language_info": {
   "codemirror_mode": {
    "name": "ipython",
    "version": 3
   },
   "file_extension": ".py",
   "mimetype": "text/x-python",
   "name": "python",
   "nbconvert_exporter": "python",
   "pygments_lexer": "ipython3",
   "version": "3.9.12"
  },
  "orig_nbformat": 4,
  "vscode": {
   "interpreter": {
    "hash": "690fcc030dbde6f3f652c519b06a0d95da528e66105ed58c88e506e5818277cb"
   }
  }
 },
 "nbformat": 4,
 "nbformat_minor": 2
}
