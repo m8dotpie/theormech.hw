{
 "cells": [
  {
   "cell_type": "code",
   "execution_count": 1,
   "metadata": {
    "colab": {
     "base_uri": "https://localhost:8080/"
    },
    "id": "4eO9RASK_Y_O",
    "outputId": "6cb77859-9e78-44aa-ec42-0fafd5c0cf0c"
   },
   "outputs": [
    {
     "name": "stdout",
     "output_type": "stream",
     "text": [
      "Requirement already satisfied: ipympl in c:\\programdata\\anaconda3\\lib\\site-packages (0.9.2)\n",
      "Requirement already satisfied: ipywidgets<9,>=7.6.0 in c:\\programdata\\anaconda3\\lib\\site-packages (from ipympl) (7.6.5)\n",
      "Requirement already satisfied: ipython<9 in c:\\programdata\\anaconda3\\lib\\site-packages (from ipympl) (8.2.0)\n",
      "Requirement already satisfied: matplotlib<4,>=3.4.0 in c:\\programdata\\anaconda3\\lib\\site-packages (from ipympl) (3.5.1)\n",
      "Requirement already satisfied: ipython-genutils in c:\\programdata\\anaconda3\\lib\\site-packages (from ipympl) (0.2.0)\n",
      "Requirement already satisfied: numpy in c:\\programdata\\anaconda3\\lib\\site-packages (from ipympl) (1.21.5)\n",
      "Requirement already satisfied: pillow in c:\\programdata\\anaconda3\\lib\\site-packages (from ipympl) (9.0.1)\n",
      "Requirement already satisfied: traitlets<6 in c:\\programdata\\anaconda3\\lib\\site-packages (from ipympl) (5.1.1)\n",
      "Requirement already satisfied: decorator in c:\\programdata\\anaconda3\\lib\\site-packages (from ipython<9->ipympl) (5.1.1)\n",
      "Requirement already satisfied: setuptools>=18.5 in c:\\programdata\\anaconda3\\lib\\site-packages (from ipython<9->ipympl) (61.2.0)\n",
      "Requirement already satisfied: pygments>=2.4.0 in c:\\programdata\\anaconda3\\lib\\site-packages (from ipython<9->ipympl) (2.11.2)\n",
      "Requirement already satisfied: matplotlib-inline in c:\\programdata\\anaconda3\\lib\\site-packages (from ipython<9->ipympl) (0.1.2)\n",
      "Requirement already satisfied: pickleshare in c:\\programdata\\anaconda3\\lib\\site-packages (from ipython<9->ipympl) (0.7.5)\n",
      "Requirement already satisfied: backcall in c:\\programdata\\anaconda3\\lib\\site-packages (from ipython<9->ipympl) (0.2.0)\n",
      "Requirement already satisfied: jedi>=0.16 in c:\\programdata\\anaconda3\\lib\\site-packages (from ipython<9->ipympl) (0.18.1)\n",
      "Requirement already satisfied: prompt-toolkit!=3.0.0,!=3.0.1,<3.1.0,>=2.0.0 in c:\\programdata\\anaconda3\\lib\\site-packages (from ipython<9->ipympl) (3.0.20)\n",
      "Requirement already satisfied: colorama in c:\\programdata\\anaconda3\\lib\\site-packages (from ipython<9->ipympl) (0.4.4)\n",
      "Requirement already satisfied: stack-data in c:\\programdata\\anaconda3\\lib\\site-packages (from ipython<9->ipympl) (0.2.0)\n",
      "Requirement already satisfied: nbformat>=4.2.0 in c:\\programdata\\anaconda3\\lib\\site-packages (from ipywidgets<9,>=7.6.0->ipympl) (5.3.0)\n",
      "Requirement already satisfied: widgetsnbextension~=3.5.0 in c:\\programdata\\anaconda3\\lib\\site-packages (from ipywidgets<9,>=7.6.0->ipympl) (3.5.2)\n",
      "Requirement already satisfied: ipykernel>=4.5.1 in c:\\programdata\\anaconda3\\lib\\site-packages (from ipywidgets<9,>=7.6.0->ipympl) (6.9.1)\n",
      "Requirement already satisfied: jupyterlab-widgets>=1.0.0 in c:\\programdata\\anaconda3\\lib\\site-packages (from ipywidgets<9,>=7.6.0->ipympl) (1.0.0)\n",
      "Requirement already satisfied: debugpy<2.0,>=1.0.0 in c:\\programdata\\anaconda3\\lib\\site-packages (from ipykernel>=4.5.1->ipywidgets<9,>=7.6.0->ipympl) (1.5.1)\n",
      "Requirement already satisfied: tornado<7.0,>=4.2 in c:\\programdata\\anaconda3\\lib\\site-packages (from ipykernel>=4.5.1->ipywidgets<9,>=7.6.0->ipympl) (6.1)\n",
      "Requirement already satisfied: jupyter-client<8.0 in c:\\programdata\\anaconda3\\lib\\site-packages (from ipykernel>=4.5.1->ipywidgets<9,>=7.6.0->ipympl) (6.1.12)\n",
      "Requirement already satisfied: nest-asyncio in c:\\programdata\\anaconda3\\lib\\site-packages (from ipykernel>=4.5.1->ipywidgets<9,>=7.6.0->ipympl) (1.5.5)\n",
      "Requirement already satisfied: parso<0.9.0,>=0.8.0 in c:\\programdata\\anaconda3\\lib\\site-packages (from jedi>=0.16->ipython<9->ipympl) (0.8.3)\n",
      "Requirement already satisfied: python-dateutil>=2.1 in c:\\programdata\\anaconda3\\lib\\site-packages (from jupyter-client<8.0->ipykernel>=4.5.1->ipywidgets<9,>=7.6.0->ipympl) (2.8.2)\n",
      "Requirement already satisfied: jupyter-core>=4.6.0 in c:\\programdata\\anaconda3\\lib\\site-packages (from jupyter-client<8.0->ipykernel>=4.5.1->ipywidgets<9,>=7.6.0->ipympl) (4.9.2)\n",
      "Requirement already satisfied: pyzmq>=13 in c:\\programdata\\anaconda3\\lib\\site-packages (from jupyter-client<8.0->ipykernel>=4.5.1->ipywidgets<9,>=7.6.0->ipympl) (22.3.0)\n",
      "Requirement already satisfied: pywin32>=1.0 in c:\\programdata\\anaconda3\\lib\\site-packages (from jupyter-core>=4.6.0->jupyter-client<8.0->ipykernel>=4.5.1->ipywidgets<9,>=7.6.0->ipympl) (302)\n",
      "Requirement already satisfied: cycler>=0.10 in c:\\programdata\\anaconda3\\lib\\site-packages (from matplotlib<4,>=3.4.0->ipympl) (0.11.0)\n",
      "Requirement already satisfied: kiwisolver>=1.0.1 in c:\\programdata\\anaconda3\\lib\\site-packages (from matplotlib<4,>=3.4.0->ipympl) (1.3.2)\n",
      "Requirement already satisfied: fonttools>=4.22.0 in c:\\programdata\\anaconda3\\lib\\site-packages (from matplotlib<4,>=3.4.0->ipympl) (4.25.0)\n",
      "Requirement already satisfied: pyparsing>=2.2.1 in c:\\programdata\\anaconda3\\lib\\site-packages (from matplotlib<4,>=3.4.0->ipympl) (3.0.4)\n",
      "Requirement already satisfied: packaging>=20.0 in c:\\programdata\\anaconda3\\lib\\site-packages (from matplotlib<4,>=3.4.0->ipympl) (21.3)\n",
      "Requirement already satisfied: fastjsonschema in c:\\programdata\\anaconda3\\lib\\site-packages (from nbformat>=4.2.0->ipywidgets<9,>=7.6.0->ipympl) (2.15.1)\n",
      "Requirement already satisfied: jsonschema>=2.6 in c:\\programdata\\anaconda3\\lib\\site-packages (from nbformat>=4.2.0->ipywidgets<9,>=7.6.0->ipympl) (4.4.0)\n",
      "Requirement already satisfied: pyrsistent!=0.17.0,!=0.17.1,!=0.17.2,>=0.14.0 in c:\\programdata\\anaconda3\\lib\\site-packages (from jsonschema>=2.6->nbformat>=4.2.0->ipywidgets<9,>=7.6.0->ipympl) (0.18.0)\n",
      "Requirement already satisfied: attrs>=17.4.0 in c:\\programdata\\anaconda3\\lib\\site-packages (from jsonschema>=2.6->nbformat>=4.2.0->ipywidgets<9,>=7.6.0->ipympl) (21.4.0)\n",
      "Requirement already satisfied: wcwidth in c:\\programdata\\anaconda3\\lib\\site-packages (from prompt-toolkit!=3.0.0,!=3.0.1,<3.1.0,>=2.0.0->ipython<9->ipympl) (0.2.5)\n",
      "Requirement already satisfied: six>=1.5 in c:\\programdata\\anaconda3\\lib\\site-packages (from python-dateutil>=2.1->jupyter-client<8.0->ipykernel>=4.5.1->ipywidgets<9,>=7.6.0->ipympl) (1.16.0)\n",
      "Requirement already satisfied: notebook>=4.4.1 in c:\\programdata\\anaconda3\\lib\\site-packages (from widgetsnbextension~=3.5.0->ipywidgets<9,>=7.6.0->ipympl) (6.4.8)\n",
      "Requirement already satisfied: prometheus-client in c:\\programdata\\anaconda3\\lib\\site-packages (from notebook>=4.4.1->widgetsnbextension~=3.5.0->ipywidgets<9,>=7.6.0->ipympl) (0.13.1)\n",
      "Requirement already satisfied: argon2-cffi in c:\\programdata\\anaconda3\\lib\\site-packages (from notebook>=4.4.1->widgetsnbextension~=3.5.0->ipywidgets<9,>=7.6.0->ipympl) (21.3.0)\n",
      "Requirement already satisfied: nbconvert in c:\\programdata\\anaconda3\\lib\\site-packages (from notebook>=4.4.1->widgetsnbextension~=3.5.0->ipywidgets<9,>=7.6.0->ipympl) (6.4.4)\n",
      "Requirement already satisfied: terminado>=0.8.3 in c:\\programdata\\anaconda3\\lib\\site-packages (from notebook>=4.4.1->widgetsnbextension~=3.5.0->ipywidgets<9,>=7.6.0->ipympl) (0.13.1)\n",
      "Requirement already satisfied: Send2Trash>=1.8.0 in c:\\programdata\\anaconda3\\lib\\site-packages (from notebook>=4.4.1->widgetsnbextension~=3.5.0->ipywidgets<9,>=7.6.0->ipympl) (1.8.0)\n",
      "Requirement already satisfied: jinja2 in c:\\programdata\\anaconda3\\lib\\site-packages (from notebook>=4.4.1->widgetsnbextension~=3.5.0->ipywidgets<9,>=7.6.0->ipympl) (2.11.3)\n",
      "Requirement already satisfied: pywinpty>=1.1.0 in c:\\programdata\\anaconda3\\lib\\site-packages (from terminado>=0.8.3->notebook>=4.4.1->widgetsnbextension~=3.5.0->ipywidgets<9,>=7.6.0->ipympl) (2.0.2)\n",
      "Requirement already satisfied: argon2-cffi-bindings in c:\\programdata\\anaconda3\\lib\\site-packages (from argon2-cffi->notebook>=4.4.1->widgetsnbextension~=3.5.0->ipywidgets<9,>=7.6.0->ipympl) (21.2.0)\n",
      "Requirement already satisfied: cffi>=1.0.1 in c:\\programdata\\anaconda3\\lib\\site-packages (from argon2-cffi-bindings->argon2-cffi->notebook>=4.4.1->widgetsnbextension~=3.5.0->ipywidgets<9,>=7.6.0->ipympl) (1.15.0)\n",
      "Requirement already satisfied: pycparser in c:\\programdata\\anaconda3\\lib\\site-packages (from cffi>=1.0.1->argon2-cffi-bindings->argon2-cffi->notebook>=4.4.1->widgetsnbextension~=3.5.0->ipywidgets<9,>=7.6.0->ipympl) (2.21)\n",
      "Requirement already satisfied: MarkupSafe>=0.23 in c:\\programdata\\anaconda3\\lib\\site-packages (from jinja2->notebook>=4.4.1->widgetsnbextension~=3.5.0->ipywidgets<9,>=7.6.0->ipympl) (2.0.1)\n",
      "Requirement already satisfied: beautifulsoup4 in c:\\programdata\\anaconda3\\lib\\site-packages (from nbconvert->notebook>=4.4.1->widgetsnbextension~=3.5.0->ipywidgets<9,>=7.6.0->ipympl) (4.11.1)\n",
      "Requirement already satisfied: bleach in c:\\programdata\\anaconda3\\lib\\site-packages (from nbconvert->notebook>=4.4.1->widgetsnbextension~=3.5.0->ipywidgets<9,>=7.6.0->ipympl) (4.1.0)\n",
      "Requirement already satisfied: jupyterlab-pygments in c:\\programdata\\anaconda3\\lib\\site-packages (from nbconvert->notebook>=4.4.1->widgetsnbextension~=3.5.0->ipywidgets<9,>=7.6.0->ipympl) (0.1.2)\n",
      "Requirement already satisfied: pandocfilters>=1.4.1 in c:\\programdata\\anaconda3\\lib\\site-packages (from nbconvert->notebook>=4.4.1->widgetsnbextension~=3.5.0->ipywidgets<9,>=7.6.0->ipympl) (1.5.0)\n",
      "Requirement already satisfied: defusedxml in c:\\programdata\\anaconda3\\lib\\site-packages (from nbconvert->notebook>=4.4.1->widgetsnbextension~=3.5.0->ipywidgets<9,>=7.6.0->ipympl) (0.7.1)\n",
      "Requirement already satisfied: nbclient<0.6.0,>=0.5.0 in c:\\programdata\\anaconda3\\lib\\site-packages (from nbconvert->notebook>=4.4.1->widgetsnbextension~=3.5.0->ipywidgets<9,>=7.6.0->ipympl) (0.5.13)\n",
      "Requirement already satisfied: entrypoints>=0.2.2 in c:\\programdata\\anaconda3\\lib\\site-packages (from nbconvert->notebook>=4.4.1->widgetsnbextension~=3.5.0->ipywidgets<9,>=7.6.0->ipympl) (0.4)\n",
      "Requirement already satisfied: testpath in c:\\programdata\\anaconda3\\lib\\site-packages (from nbconvert->notebook>=4.4.1->widgetsnbextension~=3.5.0->ipywidgets<9,>=7.6.0->ipympl) (0.5.0)\n",
      "Requirement already satisfied: mistune<2,>=0.8.1 in c:\\programdata\\anaconda3\\lib\\site-packages (from nbconvert->notebook>=4.4.1->widgetsnbextension~=3.5.0->ipywidgets<9,>=7.6.0->ipympl) (0.8.4)\n",
      "Requirement already satisfied: soupsieve>1.2 in c:\\programdata\\anaconda3\\lib\\site-packages (from beautifulsoup4->nbconvert->notebook>=4.4.1->widgetsnbextension~=3.5.0->ipywidgets<9,>=7.6.0->ipympl) (2.3.1)\n",
      "Requirement already satisfied: webencodings in c:\\programdata\\anaconda3\\lib\\site-packages (from bleach->nbconvert->notebook>=4.4.1->widgetsnbextension~=3.5.0->ipywidgets<9,>=7.6.0->ipympl) (0.5.1)\n",
      "Requirement already satisfied: pure-eval in c:\\programdata\\anaconda3\\lib\\site-packages (from stack-data->ipython<9->ipympl) (0.2.2)\n",
      "Requirement already satisfied: executing in c:\\programdata\\anaconda3\\lib\\site-packages (from stack-data->ipython<9->ipympl) (0.8.3)\n",
      "Requirement already satisfied: asttokens in c:\\programdata\\anaconda3\\lib\\site-packages (from stack-data->ipython<9->ipympl) (2.0.5)\n"
     ]
    }
   ],
   "source": [
    "!pip install ipympl"
   ]
  },
  {
   "cell_type": "code",
   "execution_count": 2,
   "metadata": {
    "id": "s50xk6aw_Pr2"
   },
   "outputs": [],
   "source": [
    "%matplotlib widget"
   ]
  },
  {
   "cell_type": "code",
   "execution_count": null,
   "metadata": {},
   "outputs": [],
   "source": [
    "# You need these lines in Google Colab\n",
    "\n",
    "#from google.colab import output\n",
    "#output.enable_custom_widget_manager()"
   ]
  },
  {
   "cell_type": "code",
   "execution_count": 5,
   "metadata": {
    "id": "q68lP_yh_pJK"
   },
   "outputs": [],
   "source": [
    "\n",
    "\n",
    "import numpy as np\n",
    "import math\n",
    "import matplotlib.pyplot as plt\n",
    "from matplotlib.animation import FuncAnimation, PillowWriter\n",
    "from IPython.display import HTML, Image\n",
    "\n",
    "plt.rcParams['text.usetex'] = False"
   ]
  },
  {
   "cell_type": "code",
   "execution_count": 39,
   "metadata": {
    "id": "YrJxedyNGTvY"
   },
   "outputs": [],
   "source": [
    "def solve_task1(scale=1, gif=True):\n",
    "    fig, ax = plt.subplots()\n",
    "    ax.set_aspect(\"equal\")\n",
    "    xdata, ydata = [], []\n",
    "    ln, = plt.plot([], [], 'b-')\n",
    "    vecs = []\n",
    "    caps = []\n",
    "\n",
    "    def xt(t):\n",
    "        return 3 * t\n",
    "\n",
    "    def yt(t):\n",
    "        return 4 * t**2 + 1\n",
    "\n",
    "    def yx(x):\n",
    "        return 4 / 9 * x**2 + 1\n",
    "\n",
    "    def vt(t):\n",
    "        return (3, 8 * t)\n",
    "\n",
    "    def at(t):\n",
    "        return (0, 8)\n",
    "\n",
    "    def att(t):\n",
    "        return np.dot(vt(t), at(t)) / np.sqrt(np.dot(vt(t), vt(t)))\n",
    "\n",
    "    def ant(t):\n",
    "        return np.sqrt(np.dot(at(t), at(t)) - att(t)**2)\n",
    "\n",
    "    def init_yx():\n",
    "        ax.set_xlim(scale * -50, scale * 50)\n",
    "        ax.set_ylim(scale * -1, scale * 105)\n",
    "        plt.xlabel('x')\n",
    "        plt.ylabel('y(x)')\n",
    "        plt.grid()\n",
    "        plt.autoscale(False)\n",
    "        plt.title('Original Size')\n",
    "        return ln,\n",
    "\n",
    "    def update_yx(frame):\n",
    "\n",
    "        xdata.append(xt(frame))\n",
    "        ydata.append(yx(xt(frame)))\n",
    "\n",
    "        while len(vecs):\n",
    "            vecs[-1].remove()\n",
    "            vecs.pop()\n",
    "\n",
    "        while len(caps):\n",
    "            caps[-1].remove()\n",
    "            caps.pop()\n",
    "\n",
    "        scale_factor = 1\n",
    "\n",
    "        xt_val = xt(frame)\n",
    "        yt_val = yt(frame)\n",
    "        yx_val = yx(xt_val)\n",
    "        att_val = att(frame)\n",
    "        ant_val = ant(frame)\n",
    "\n",
    "        vt_vec = vt(frame)\n",
    "        tan_vec = vt_vec / np.sqrt(np.dot(vt_vec, vt_vec))\n",
    "        norm_vec_c = complex(tan_vec[0], tan_vec[1]) * np.exp(np.pi / 2 * complex(0, 1))\n",
    "        norm_vec = np.array([norm_vec_c.real, norm_vec_c.imag])\n",
    "\n",
    "        at_vec = scale_factor * at(frame)\n",
    "        att_vec = scale_factor * att_val * tan_vec   \n",
    "        ant_vec = scale_factor * ant_val * norm_vec\n",
    "\n",
    "        vecs.append(plt.quiver([xt_val], [yx_val], [vt_vec[0]], [vt_vec[1]], units='xy', scale = 1, scale_units='xy', angles='xy'))\n",
    "        vecs.append(plt.quiver([xt_val], [yx_val], [at_vec[0]], [at_vec[1]], units='xy', scale = 1, scale_units='xy', angles='xy', color='g'))\n",
    "        vecs.append(plt.quiver([xt_val], [yx_val], [att_vec[0]], [att_vec[1]], units='xy', scale = 1, scale_units='xy', angles='xy', color='r'))\n",
    "        vecs.append(plt.quiver([xt_val], [yx_val], [ant_vec[0]], [ant_vec[1]], units='xy', scale = 1, scale_units='xy', angles='xy', color='b'))\n",
    "\n",
    "        caps.append(ax.text(xt_val + at_vec[0], yx_val + at_vec[1], r'$\\vec{a}$',  fontsize=10, color='green'))\n",
    "        caps.append(ax.text(xt_val + att_vec[0], yx_val + att_vec[1], r'$\\vec{a}_{\\tau}$',  fontsize=10, color='red'))\n",
    "        caps.append(ax.text(xt_val + vt_vec[0], yx_val + vt_vec[1], r'$\\vec{v}$',  fontsize=10))\n",
    "        caps.append(ax.text(xt_val + ant_vec[0], yx_val + ant_vec[1], r'$\\vec{a}_{n}$',  fontsize=10, color='blue'))\n",
    "        \n",
    "        vecs[0].set_label(r'$[{:.2f}, {:.2f}]$ - vector of speed'.format(vt_vec[0], vt_vec[1]))\n",
    "        vecs[1].set_label(r'$[{:.2f}, {:.2f}]$ - vector of tangential acceleration'.format(att_vec[0], att_vec[1]))\n",
    "        vecs[2].set_label(r'$[{:.2f}, {:.2f}]$ - vector of normal acceleration'.format(ant_vec[0], ant_vec[1]))\n",
    "        vecs[3].set_label(r'$[{:.2f}, {:.2f}]$ - vector of total acceleration'.format(at_vec[0], at_vec[1]))\n",
    "        ax.legend()\n",
    "\n",
    "        ln.set_data(xdata, ydata)\n",
    "        return ln,\n",
    "\n",
    "    ani = FuncAnimation(fig, update_yx, frames=np.linspace(-5, 5, 120),\n",
    "                        init_func=init_yx, blit=True)\n",
    "\n",
    "\n",
    "    if gif == True:\n",
    "        ani.save('task1.gif', dpi=100, writer=PillowWriter(fps=60))\n",
    "        plt.close('all')\n",
    "    else:\n",
    "        plt.show()"
   ]
  },
  {
   "cell_type": "code",
   "execution_count": 40,
   "metadata": {},
   "outputs": [
    {
     "data": {
      "application/vnd.jupyter.widget-view+json": {
       "model_id": "c91fdc18b0ce4622962a38f185f48e10",
       "version_major": 2,
       "version_minor": 0
      },
      "image/png": "[encoded data removed]",
      "text/html": [
       "\n",
       "            <div style=\"display: inline-block;\">\n",
       "                <div class=\"jupyter-widgets widget-label\" style=\"text-align: center;\">\n",
       "                    Figure 1\n",
       "                </div>\n",
       "                <img src='data:image/png;base64,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' width=640.0/>\n",
       "            </div>\n",
       "        "
      ],
      "text/plain": [
       "Canvas(toolbar=Toolbar(toolitems=[('Home', 'Reset original view', 'home', 'home'), ('Back', 'Back to previous …"
      ]
     },
     "metadata": {},
     "output_type": "display_data"
    }
   ],
   "source": [
    "solve_task1(scale=1)"
   ]
  },
  {
   "cell_type": "code",
   "execution_count": null,
   "metadata": {},
   "outputs": [],
   "source": []
  }
 ],
 "metadata": {
  "colab": {
   "provenance": []
  },
  "kernelspec": {
   "display_name": "Python 3.9.12 ('base')",
   "language": "python",
   "name": "python3"
  },
  "language_info": {
   "codemirror_mode": {
    "name": "ipython",
    "version": 3
   },
   "file_extension": ".py",
   "mimetype": "text/x-python",
   "name": "python",
   "nbconvert_exporter": "python",
   "pygments_lexer": "ipython3",
   "version": "3.9.12"
  },
  "vscode": {
   "interpreter": {
    "hash": "ad2bdc8ecc057115af97d19610ffacc2b4e99fae6737bb82f5d7fb13d2f2c186"
   }
  }
 },
 "nbformat": 4,
 "nbformat_minor": 1
}
