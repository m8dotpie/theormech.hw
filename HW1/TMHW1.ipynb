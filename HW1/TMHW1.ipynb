{
 "cells": [
  {
   "cell_type": "markdown",
   "metadata": {
    "pycharm": {
     "name": "#%% md\n"
    }
   },
   "source": [
    "# Environment configuration\n",
    "**Note:** packages installer cell output is supressed. Remove the '%%capture' line in case of any problems with packages.\n",
    "\n",
    "**Note:** to run this notebook in the google colab it is better to uncomment the next cell."
   ]
  },
  {
   "cell_type": "code",
   "execution_count": null,
   "metadata": {
    "pycharm": {
     "name": "#%%\n"
    }
   },
   "outputs": [],
   "source": [
    "# You need these lines in Google Colab\n",
    "\n",
    "#from google.colab import output\n",
    "#output.enable_custom_widget_manager()"
   ]
  },
  {
   "cell_type": "code",
   "execution_count": 1,
   "metadata": {
    "colab": {
     "base_uri": "https://localhost:8080/"
    },
    "id": "4eO9RASK_Y_O",
    "outputId": "6cb77859-9e78-44aa-ec42-0fafd5c0cf0c",
    "pycharm": {
     "name": "#%%\n"
    }
   },
   "outputs": [],
   "source": [
    "\"\"\"\n",
    "Magic capture supresses the output of the cell to prevent\n",
    "long output of already satisfied dependencies.\n",
    "Remove this line to enable cell output\n",
    "\"\"\"\n",
    "%%capture\n",
    "%pip install ipympl"
   ]
  },
  {
   "cell_type": "code",
   "execution_count": 12,
   "metadata": {
    "id": "s50xk6aw_Pr2",
    "pycharm": {
     "name": "#%%\n"
    }
   },
   "outputs": [],
   "source": [
    "%matplotlib widget"
   ]
  },
  {
   "cell_type": "code",
   "execution_count": 4,
   "metadata": {
    "id": "q68lP_yh_pJK",
    "pycharm": {
     "name": "#%%\n"
    }
   },
   "outputs": [],
   "source": [
    "import numpy as np\n",
    "import sympy as sp\n",
    "import matplotlib.pyplot as plt\n",
    "import matplotlib.patches as pltp\n",
    "from matplotlib.animation import FuncAnimation, PillowWriter\n",
    "from numpy import exp, pi, array, asarray\n",
    "from sympy.solvers import solve\n",
    "from sympy import Symbol, Ellipse, Point, Line, Matrix, diff"
   ]
  },
  {
   "cell_type": "markdown",
   "metadata": {
    "pycharm": {
     "name": "#%% md\n"
    }
   },
   "source": [
    "# Task 1"
   ]
  },
  {
   "cell_type": "code",
   "execution_count": 5,
   "metadata": {
    "pycharm": {
     "name": "#%%\n"
    }
   },
   "outputs": [],
   "source": [
    "# use this variable to scale the graph\n",
    "scale = 1"
   ]
  },
  {
   "cell_type": "code",
   "execution_count": 6,
   "metadata": {
    "pycharm": {
     "name": "#%%\n"
    }
   },
   "outputs": [],
   "source": [
    "t = Symbol('t')\n",
    "O = Matrix([3 * t, 4 * t**2 + 1])\n",
    "V = diff(O, t)\n",
    "a = diff(V, t)\n",
    "at = a.dot(V) / V.norm() * V / V.norm()\n",
    "an = a - at"
   ]
  },
  {
   "cell_type": "code",
   "execution_count": 7,
   "metadata": {
    "pycharm": {
     "name": "#%%\n"
    }
   },
   "outputs": [],
   "source": [
    "fig, ax = plt.subplots()\n",
    "ax.set_aspect(\"equal\")\n",
    "xdata, ydata = [], []\n",
    "ln, = plt.plot([], [], 'b-')\n",
    "\n",
    "vecs = []\n",
    "\n",
    "# animation initialisation\n",
    "def init_task1():\n",
    "    ax.set_xlim(-50 / scale, 50 / scale)\n",
    "    ax.set_ylim(-1 / scale, 105 / scale)\n",
    "    plt.xlabel('x')\n",
    "    plt.ylabel('y(x)')\n",
    "    plt.grid()\n",
    "    plt.title('Scale: {}'.format(scale))\n",
    "    return ln,\n",
    "\n",
    "# animation update on every frame\n",
    "def update_task1(frame):\n",
    "    # substitute frame for time variable\n",
    "    # in sympy objects\n",
    "    Of = O.subs(t, frame)\n",
    "    Vf = V.subs(t, frame)\n",
    "    af = a.subs(t, frame)\n",
    "    atf = at.subs(t, frame)\n",
    "    anf = an.subs(t, frame)\n",
    "\n",
    "    # remove all the vectors on the graph\n",
    "    while len(vecs):\n",
    "        vecs[-1].remove()\n",
    "        vecs.pop()\n",
    "\n",
    "    # draw new vectors at the corresponding point\n",
    "    vecs.extend([\n",
    "        plt.quiver([float(Of[0])], [float(Of[1])], [float(i[0])], [float(i[1])], units='xy', scale = 1, scale_units='xy', angles='xy', color=color)\n",
    "        for i, color in zip([Vf, af, atf, anf], ['black', 'green', 'red', 'blue'])\n",
    "    ])\n",
    "\n",
    "    # draw new point on the graph\n",
    "    xdata.append(Of[0])\n",
    "    ydata.append(Of[1])\n",
    "    ln.set_data(xdata, ydata)\n",
    "    return ln,\n",
    "\n",
    "# create animation\n",
    "anim = FuncAnimation(fig, update_task1, frames=np.linspace(-5, 5, 120), init_func=init_task1, blit=True)\n",
    "\n",
    "# save animation to the file\n",
    "anim.save('task1.gif', dpi=100, writer=PillowWriter(fps=60))\n",
    "# prevent unclosed plots\n",
    "plt.close('all')"
   ]
  },
  {
   "cell_type": "markdown",
   "metadata": {
    "pycharm": {
     "name": "#%% md\n"
    }
   },
   "source": [
    "# Task 2"
   ]
  },
  {
   "cell_type": "code",
   "execution_count": 8,
   "metadata": {
    "pycharm": {
     "name": "#%%\n"
    }
   },
   "outputs": [],
   "source": [
    "\"\"\"\n",
    "Custom method for rotating a list of vectors\n",
    "with respect to some origin on a given angle.\n",
    "Angle should be given in radians.\n",
    "\"\"\"\n",
    "def c_rot(vectors, angle, origin = [0, 0]):\n",
    "        for i in range(len(vectors)):\n",
    "            vectors[i] = complex(vectors[i][0] - origin[0], vectors[i][1] - origin[1])\n",
    "            vectors[i] *= exp(angle * complex(0, 1))\n",
    "            vectors[i] = [vectors[i].real + origin[0], vectors[i].imag + origin[1]]\n",
    "        return vectors"
   ]
  },
  {
   "cell_type": "code",
   "execution_count": 9,
   "metadata": {
    "pycharm": {
     "name": "#%%\n"
    }
   },
   "outputs": [],
   "source": [
    "# Initial values\n",
    "OA = OP = 25\n",
    "AC = 20\n",
    "w = 1"
   ]
  },
  {
   "cell_type": "code",
   "execution_count": 10,
   "metadata": {
    "pycharm": {
     "name": "#%%\n"
    }
   },
   "outputs": [],
   "source": [
    "t = Symbol('t')\n",
    "O = array([0, 0])\n",
    "P = array([0, OP])\n",
    "P1 = c_rot([P], pi / 3)[0]\n",
    "A = OA * Point([sp.cos(t), sp.sin(t)])\n",
    "B = Ellipse(A, 80, 80).intersection(Line(Point(P), Point(P1)))[0]\n",
    "C = 1 / 4 * (B - A) + A\n",
    "Pabc = [[A[0], A[1]], [B[0], B[1]], [C[0], C[1]]]\n",
    "Vabc = [[sp.diff(i[0]), sp.diff(i[1])] for i in Pabc]\n",
    "Aabc = [[sp.diff(i[0]), sp.diff(i[1])] for i in Vabc]"
   ]
  },
  {
   "cell_type": "code",
   "execution_count": 11,
   "metadata": {
    "pycharm": {
     "name": "#%%\n"
    }
   },
   "outputs": [],
   "source": [
    "fig, ax = plt.subplots()\n",
    "ax.set_aspect(\"equal\")\n",
    "ax.axis(\"off\")\n",
    "\n",
    "xdata, ydata = [], []\n",
    "ln, = plt.plot([], [], 'b-')\n",
    "\n",
    "vectors = []\n",
    "points  = []\n",
    "titles  = []\n",
    "lines   = []\n",
    "\n",
    "# Animation initialisation\n",
    "def init_model():\n",
    "    ax.set_xlim(-130, 130)\n",
    "    ax.set_ylim(-130, 130)\n",
    "    plt.title('Model')\n",
    "    return ln,\n",
    "\n",
    "# Draw a rectangle at a given point   \n",
    "def plot_poly(Bt):\n",
    "    h = 10\n",
    "    w = 20\n",
    "    poly = pltp.Polygon(c_rot([[Bt[0] - w, Bt[1] - h],\n",
    "                               [Bt[0] - w, Bt[1] + h],\n",
    "                               [Bt[0] + w, Bt[1] + h], \n",
    "                               [Bt[0] + w, Bt[1] - h]], pi / 6, Bt), \n",
    "                        fill=False, edgecolor=\"blue\", linewidth=0.5)\n",
    "    ax.add_patch(poly)\n",
    "\n",
    "# Remove all the previous points, labels, vectors   \n",
    "def clear_screen():\n",
    "    if len(ax.patches):\n",
    "        ax.patches.pop()\n",
    "    \n",
    "    while len(points):\n",
    "        for item in points[-1]:\n",
    "            item.remove()\n",
    "        points.pop()\n",
    "    \n",
    "    while len(lines):\n",
    "        for item in lines[-1]:\n",
    "            item.remove()\n",
    "        lines.pop()\n",
    "        \n",
    "    while len(titles):\n",
    "        titles[-1].remove()\n",
    "        titles.pop()\n",
    "        \n",
    "    while len(vectors):\n",
    "        vectors[-1].remove()\n",
    "        vectors.pop()\n",
    "\n",
    "# Animation update on each frame\n",
    "def update_model(frame):\n",
    "    # Substitute frame for t in sympy objects\n",
    "    PFabc = [[float(i[0].subs(t, frame).evalf()), float(i[1].subs(t, frame).evalf())] for i in Pabc]\n",
    "    VFabc = [[float(i[0].subs(t, frame).evalf()), float(i[1].subs(t, frame).evalf())] for i in Vabc]            \n",
    "    AFabc = [[float(i[0].subs(t, frame).evalf()), float(i[1].subs(t, frame).evalf())] for i in Aabc]\n",
    "    \n",
    "    Tabc = [VFabc[i] / np.linalg.norm(VFabc[i]) for i in range(3)]\n",
    "    \n",
    "    ATabc = [Tabc[i] * (np.dot(AFabc[i], VFabc[i]) / np.linalg.norm(VFabc[i])) for i in range(3)]\n",
    "    ANabc = [np.asarray(AFabc[i]) - np.asarray(ATabc[i]) for i in range(3)]\n",
    "    \n",
    "    Pf = P\n",
    "    Of = O\n",
    "    Cf = C\n",
    "    \n",
    "    \n",
    "    clear_screen()    \n",
    "    plot_poly(PFabc[1])\n",
    "\n",
    "    # Draw all points of interest on the screen    \n",
    "    points.extend([\n",
    "        plt.plot(i[0], i[1], marker=\"o\", markersize=3, markeredgecolor=\"black\", markerfacecolor=\"black\")\n",
    "        for i in [PFabc[0], PFabc[1], PFabc[2], Of, Pf, P1]\n",
    "    ])\n",
    "    \n",
    "    # Plot all lines on the screen\n",
    "    lines.extend([\n",
    "        plt.plot([Pf[0], PFabc[1][0]], [Pf[1], PFabc[1][1]], linestyle=\"dashed\", linewidth=0.5, color=\"green\"),\n",
    "        plt.plot([Pf[0], Of[0]], [Pf[1], Of[1]], linestyle=\"dashed\", linewidth=0.5, color=\"blue\"),\n",
    "        plt.plot([PFabc[0][0], PFabc[1][0]], [PFabc[0][1], PFabc[1][1]], linewidth=0.5, color=\"black\"),\n",
    "        plt.plot([Of[0], PFabc[0][0]], [Of[1], PFabc[0][1]], linewidth=0.5, color=\"black\")\n",
    "    ])\n",
    "    \n",
    "    # Add titles to points on the plot\n",
    "    titles.extend([\n",
    "        ax.text(i[0][0], i[0][1] + 3, i[1], fontsize=10)\n",
    "        for i in [[PFabc[0], 'A'], [PFabc[1], 'B'], [PFabc[2], 'C'], [Of, 'O'], [Pf, 'P'], [P1, r'$P_1$']]\n",
    "    ])\n",
    "    \n",
    "    # Draw all the velocity vectors on the plot\n",
    "    vectors.extend([\n",
    "        plt.quiver([i[0]], [i[1]], [j[0]], [j[1]], color=\"black\", units='xy', scale = 1, scale_units='xy', angles='xy')\n",
    "        for i, j in zip(PFabc, VFabc)\n",
    "    ])\n",
    "    \n",
    "    # Draw all the total acceleration vectors on the plot\n",
    "    vectors.extend([\n",
    "        plt.quiver([i[0]], [i[1]], [j[0]], [j[1]], color=\"green\", units='xy', scale = 1, scale_units='xy', angles='xy')\n",
    "        for i, j in zip(PFabc, AFabc)\n",
    "    ])\n",
    "    \n",
    "    # Draw all the tangential acceleration vectors on the plot\n",
    "    vectors.extend([\n",
    "        plt.quiver([i[0]], [i[1]], [j[0]], [j[1]], color=\"red\", units='xy', scale = 1, scale_units='xy', angles='xy')\n",
    "        for i, j in zip(PFabc, ATabc)\n",
    "    ])\n",
    "    \n",
    "    # Draw all the normal acceleration vectors on the plot\n",
    "    vectors.extend([\n",
    "        plt.quiver([i[0]], [i[1]], [j[0]], [j[1]], color=\"blue\", units='xy', scale = 1, scale_units='xy', angles='xy')\n",
    "        for i, j in zip([PFabc[0], PFabc[2]], [ANabc[0], ANabc[2]])\n",
    "    ])\n",
    "    \n",
    "    return ln,\n",
    "\n",
    "anim = FuncAnimation(fig, update_model, frames=np.linspace(0, 2 * np.pi, 120),\n",
    "                        init_func=init_model, blit=True)\n",
    "\n",
    "anim.save('task2.gif', dpi=300, writer=PillowWriter(fps=60))\n",
    "plt.close('all')"
   ]
  }
 ],
 "metadata": {
  "colab": {
   "provenance": []
  },
  "kernelspec": {
   "display_name": "Python 3 (ipykernel)",
   "language": "python",
   "name": "python3"
  },
  "language_info": {
   "codemirror_mode": {
    "name": "ipython",
    "version": 3
   },
   "file_extension": ".py",
   "mimetype": "text/x-python",
   "name": "python",
   "nbconvert_exporter": "python",
   "pygments_lexer": "ipython3",
   "version": "3.10.6"
  },
  "vscode": {
   "interpreter": {
    "hash": "1f7231cd321bc73172e23d3fd2b7413e5063c7e51a3c02201c1a1feb0b5bad5f"
   }
  }
 },
 "nbformat": 4,
 "nbformat_minor": 1
}
