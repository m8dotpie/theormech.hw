{
 "cells": [
  {
   "cell_type": "code",
   "execution_count": 1,
   "metadata": {},
   "outputs": [],
   "source": [
    "import numpy as np\n",
    "import sympy as sp\n",
    "import matplotlib.pyplot as plt\n",
    "\n",
    "from sympy import Symbol, Point2D\n",
    "from matplotlib.animation import FuncAnimation, PillowWriter"
   ]
  },
  {
   "cell_type": "code",
   "execution_count": 2,
   "metadata": {},
   "outputs": [],
   "source": [
    "x = Symbol('x')\n",
    "t = Symbol('t')\n",
    "x = 1 / 2 * t"
   ]
  },
  {
   "cell_type": "code",
   "execution_count": 3,
   "metadata": {},
   "outputs": [],
   "source": [
    "a_t_max = 10\n",
    "a_n_max = 6\n",
    "v_max = 1.5\n",
    "\n",
    "x_min = 0\n",
    "x_max = 4\n",
    "\n",
    "A = 1\n",
    "O_m = 3\n",
    "theta_0 = 0.2\n",
    "\n",
    "steps = 200\n",
    "t_start = 0\n",
    "t_end = 6\n",
    "dt = (t_end - t_start) / steps"
   ]
  },
  {
   "cell_type": "code",
   "execution_count": 4,
   "metadata": {},
   "outputs": [],
   "source": [
    "y_x = A * sp.sin(O_m * x + theta_0)"
   ]
  },
  {
   "cell_type": "code",
   "execution_count": 5,
   "metadata": {},
   "outputs": [],
   "source": [
    "def car(frame, pos):\n",
    "    t_a = 0.2\n",
    "    X, Y = 0, 0\n",
    "    V = a_t = at_t = an_t = 0\n",
    "    if frame < t_a:\n",
    "        a1 = 0\n",
    "        a2 = 0\n",
    "        a3 = v_max / (2 * t_a)\n",
    "\n",
    "        tau = Point2D(sp.diff(x), sp.diff(y_x))\n",
    "        tau = tau / sp.sqrt(np.dot(tau, tau))\n",
    "\n",
    "        V_t = 2 * a3 * t * tau\n",
    "        V = 2 * a3 * frame * tau\n",
    "\n",
    "        a_t = sp.diff(V_t[0]).subs(t, frame), sp.diff(V_t[1]).subs(t, frame)\n",
    "        at_t = np.dot(a_t, tau.subs(t, 2 * pos[0])) * tau.subs(t, 2 * pos[0])\n",
    "        an_t = list(np.array(a_t) - np.array(at_t))\n",
    "\n",
    "        if (2 * a3 * frame)**2 < 0.000001:\n",
    "            a_t = [0, 0]\n",
    "            at_t = [0, 0]\n",
    "            an_t = [0, 0]\n",
    "    \n",
    "    elif frame > t_end - t_a:\n",
    "        a1 = 0\n",
    "        a2 = v_max * t_end / t_a\n",
    "        a3 = -v_max / (2 * t_a)\n",
    "\n",
    "        tau = Point2D(sp.diff(x), sp.diff(y_x))\n",
    "        tau = tau / sp.sqrt(np.dot(tau, tau))\n",
    "\n",
    "        V_t = (a2 + 2 * a3 * t) * tau\n",
    "        V = (a2 + 2 * a3 * frame) * tau\n",
    "\n",
    "        a_t = sp.diff(V_t[0]).subs(t, frame), sp.diff(V_t[1]).subs(t, frame)\n",
    "        at_t = np.dot(a_t, tau.subs(t, 2 * pos[0])) * tau.subs(t, 2 * pos[0])\n",
    "        an_t = list(np.array(a_t) - np.array(at_t))\n",
    "\n",
    "        if (a2 + 2 * a3 * frame)**2 < 0.000001:\n",
    "            a_t = [0, 0]\n",
    "            at_t = [0, 0]\n",
    "            an_t = [0, 0]\n",
    "\n",
    "    else:\n",
    "        tau = Point2D(sp.diff(x), sp.diff(y_x))\n",
    "        tau = tau / sp.sqrt(np.dot(tau, tau))\n",
    "\n",
    "        V_t = v_max * tau\n",
    "        V = v_max * tau\n",
    "\n",
    "        a_t = sp.diff(V_t[0]).subs(t, frame), sp.diff(V_t[1]).subs(t, frame)\n",
    "        at_t = np.dot(a_t, tau.subs(t, 2 * pos[0])) * tau.subs(t, 2 * pos[0])\n",
    "        an_t = list(np.array(a_t) - np.array(at_t))\n",
    "\n",
    "    try:\n",
    "        V = [V[0].subs(t, 2  * pos[0]).evalf(), V[1].subs(t, 2  * pos[0]).evalf()]\n",
    "    except:\n",
    "        pass\n",
    "\n",
    "    try:\n",
    "        a_t = [a_t[0].subs(t, 2  * pos[0]).evalf(), a_t[1].subs(t, 2  * pos[0]).evalf()]\n",
    "    except:\n",
    "        pass\n",
    "\n",
    "    try:\n",
    "        at_t = [a_t[0].subs(t, 2  * pos[0]).evalf(), at_t[1].subs(t, 2  * pos[0]).evalf()]\n",
    "    except:\n",
    "        pass\n",
    "\n",
    "    try:\n",
    "        an_t = [a_t[0].subs(t, 2  * pos[0]).evalf(), an_t[1].subs(t, 2  * pos[0]).evalf()]\n",
    "    except:\n",
    "        pass\n",
    "    \n",
    "    #print(V, a_t, at_t, an_t)\n",
    "    \n",
    "    return [V, a_t, at_t, an_t]"
   ]
  },
  {
   "cell_type": "code",
   "execution_count": 6,
   "metadata": {},
   "outputs": [
    {
     "name": "stdout",
     "output_type": "stream",
     "text": [
      "[0.241498937834477, 0.710055112667192] a\n",
      "[2.63009641257737, 7.02490878028235] b\n",
      "[2.63009641257737, 7.09832677394313] c\n",
      "[2.63009641257737, -0.0734179936607816] d\n"
     ]
    }
   ],
   "source": [
    "for p, color in zip(car(0.1, [0, 0]), ['a', 'b', 'c', 'd']):\n",
    "    print(p, color)"
   ]
  },
  {
   "cell_type": "code",
   "execution_count": 7,
   "metadata": {},
   "outputs": [
    {
     "ename": "KeyboardInterrupt",
     "evalue": "",
     "output_type": "error",
     "traceback": [
      "\u001b[1;31m---------------------------------------------------------------------------\u001b[0m",
      "\u001b[1;31mKeyboardInterrupt\u001b[0m                         Traceback (most recent call last)",
      "\u001b[1;32md:\\Work\\theormech.hw\\RHW1\\rhw1.ipynb Ячейка 7\u001b[0m in \u001b[0;36m<cell line: 59>\u001b[1;34m()\u001b[0m\n\u001b[0;32m     <a href='vscode-notebook-cell:/d%3A/Work/theormech.hw/RHW1/rhw1.ipynb#W6sZmlsZQ%3D%3D?line=54'>55</a>\u001b[0m     \u001b[39mreturn\u001b[39;00m ln,\n\u001b[0;32m     <a href='vscode-notebook-cell:/d%3A/Work/theormech.hw/RHW1/rhw1.ipynb#W6sZmlsZQ%3D%3D?line=56'>57</a>\u001b[0m anim \u001b[39m=\u001b[39m FuncAnimation(fig, update_task1, frames\u001b[39m=\u001b[39mnp\u001b[39m.\u001b[39mlinspace(t_start, t_end, steps), init_func\u001b[39m=\u001b[39minit_task1, blit\u001b[39m=\u001b[39m\u001b[39mTrue\u001b[39;00m)\n\u001b[1;32m---> <a href='vscode-notebook-cell:/d%3A/Work/theormech.hw/RHW1/rhw1.ipynb#W6sZmlsZQ%3D%3D?line=58'>59</a>\u001b[0m anim\u001b[39m.\u001b[39;49msave(\u001b[39m'\u001b[39;49m\u001b[39msim.gif\u001b[39;49m\u001b[39m'\u001b[39;49m, dpi\u001b[39m=\u001b[39;49m\u001b[39m100\u001b[39;49m, writer\u001b[39m=\u001b[39;49mPillowWriter(fps\u001b[39m=\u001b[39;49m\u001b[39m60\u001b[39;49m))\n\u001b[0;32m     <a href='vscode-notebook-cell:/d%3A/Work/theormech.hw/RHW1/rhw1.ipynb#W6sZmlsZQ%3D%3D?line=59'>60</a>\u001b[0m plt\u001b[39m.\u001b[39mclose(\u001b[39m'\u001b[39m\u001b[39mall\u001b[39m\u001b[39m'\u001b[39m)\n",
      "File \u001b[1;32md:\\Programs\\Anaconda\\lib\\site-packages\\matplotlib\\animation.py:1091\u001b[0m, in \u001b[0;36mAnimation.save\u001b[1;34m(self, filename, writer, fps, dpi, codec, bitrate, extra_args, metadata, extra_anim, savefig_kwargs, progress_callback)\u001b[0m\n\u001b[0;32m   1088\u001b[0m \u001b[39mfor\u001b[39;00m data \u001b[39min\u001b[39;00m \u001b[39mzip\u001b[39m(\u001b[39m*\u001b[39m[a\u001b[39m.\u001b[39mnew_saved_frame_seq() \u001b[39mfor\u001b[39;00m a \u001b[39min\u001b[39;00m all_anim]):\n\u001b[0;32m   1089\u001b[0m     \u001b[39mfor\u001b[39;00m anim, d \u001b[39min\u001b[39;00m \u001b[39mzip\u001b[39m(all_anim, data):\n\u001b[0;32m   1090\u001b[0m         \u001b[39m# TODO: See if turning off blit is really necessary\u001b[39;00m\n\u001b[1;32m-> 1091\u001b[0m         anim\u001b[39m.\u001b[39;49m_draw_next_frame(d, blit\u001b[39m=\u001b[39;49m\u001b[39mFalse\u001b[39;49;00m)\n\u001b[0;32m   1092\u001b[0m         \u001b[39mif\u001b[39;00m progress_callback \u001b[39mis\u001b[39;00m \u001b[39mnot\u001b[39;00m \u001b[39mNone\u001b[39;00m:\n\u001b[0;32m   1093\u001b[0m             progress_callback(frame_number, total_frames)\n",
      "File \u001b[1;32md:\\Programs\\Anaconda\\lib\\site-packages\\matplotlib\\animation.py:1126\u001b[0m, in \u001b[0;36mAnimation._draw_next_frame\u001b[1;34m(self, framedata, blit)\u001b[0m\n\u001b[0;32m   1122\u001b[0m \u001b[39mdef\u001b[39;00m \u001b[39m_draw_next_frame\u001b[39m(\u001b[39mself\u001b[39m, framedata, blit):\n\u001b[0;32m   1123\u001b[0m     \u001b[39m# Breaks down the drawing of the next frame into steps of pre- and\u001b[39;00m\n\u001b[0;32m   1124\u001b[0m     \u001b[39m# post- draw, as well as the drawing of the frame itself.\u001b[39;00m\n\u001b[0;32m   1125\u001b[0m     \u001b[39mself\u001b[39m\u001b[39m.\u001b[39m_pre_draw(framedata, blit)\n\u001b[1;32m-> 1126\u001b[0m     \u001b[39mself\u001b[39;49m\u001b[39m.\u001b[39;49m_draw_frame(framedata)\n\u001b[0;32m   1127\u001b[0m     \u001b[39mself\u001b[39m\u001b[39m.\u001b[39m_post_draw(framedata, blit)\n",
      "File \u001b[1;32md:\\Programs\\Anaconda\\lib\\site-packages\\matplotlib\\animation.py:1720\u001b[0m, in \u001b[0;36mFuncAnimation._draw_frame\u001b[1;34m(self, framedata)\u001b[0m\n\u001b[0;32m   1716\u001b[0m \u001b[39mself\u001b[39m\u001b[39m.\u001b[39m_save_seq \u001b[39m=\u001b[39m \u001b[39mself\u001b[39m\u001b[39m.\u001b[39m_save_seq[\u001b[39m-\u001b[39m\u001b[39mself\u001b[39m\u001b[39m.\u001b[39msave_count:]\n\u001b[0;32m   1718\u001b[0m \u001b[39m# Call the func with framedata and args. If blitting is desired,\u001b[39;00m\n\u001b[0;32m   1719\u001b[0m \u001b[39m# func needs to return a sequence of any artists that were modified.\u001b[39;00m\n\u001b[1;32m-> 1720\u001b[0m \u001b[39mself\u001b[39m\u001b[39m.\u001b[39m_drawn_artists \u001b[39m=\u001b[39m \u001b[39mself\u001b[39;49m\u001b[39m.\u001b[39;49m_func(framedata, \u001b[39m*\u001b[39;49m\u001b[39mself\u001b[39;49m\u001b[39m.\u001b[39;49m_args)\n\u001b[0;32m   1722\u001b[0m \u001b[39mif\u001b[39;00m \u001b[39mself\u001b[39m\u001b[39m.\u001b[39m_blit:\n\u001b[0;32m   1724\u001b[0m     err \u001b[39m=\u001b[39m \u001b[39mRuntimeError\u001b[39;00m(\u001b[39m'\u001b[39m\u001b[39mThe animation function must return a sequence \u001b[39m\u001b[39m'\u001b[39m\n\u001b[0;32m   1725\u001b[0m                        \u001b[39m'\u001b[39m\u001b[39mof Artist objects.\u001b[39m\u001b[39m'\u001b[39m)\n",
      "\u001b[1;32md:\\Work\\theormech.hw\\RHW1\\rhw1.ipynb Ячейка 7\u001b[0m in \u001b[0;36mupdate_task1\u001b[1;34m(frame)\u001b[0m\n\u001b[0;32m     <a href='vscode-notebook-cell:/d%3A/Work/theormech.hw/RHW1/rhw1.ipynb#W6sZmlsZQ%3D%3D?line=24'>25</a>\u001b[0m \u001b[39mdef\u001b[39;00m \u001b[39mupdate_task1\u001b[39m(frame):\n\u001b[1;32m---> <a href='vscode-notebook-cell:/d%3A/Work/theormech.hw/RHW1/rhw1.ipynb#W6sZmlsZQ%3D%3D?line=26'>27</a>\u001b[0m     [V_frame, a_frame, at_frame, an_frame] \u001b[39m=\u001b[39m car(frame, car_pos)\n\u001b[0;32m     <a href='vscode-notebook-cell:/d%3A/Work/theormech.hw/RHW1/rhw1.ipynb#W6sZmlsZQ%3D%3D?line=28'>29</a>\u001b[0m     V_frame \u001b[39m=\u001b[39m [\u001b[39mfloat\u001b[39m(V_frame[\u001b[39m0\u001b[39m]), \u001b[39mfloat\u001b[39m(V_frame[\u001b[39m1\u001b[39m])]\n\u001b[0;32m     <a href='vscode-notebook-cell:/d%3A/Work/theormech.hw/RHW1/rhw1.ipynb#W6sZmlsZQ%3D%3D?line=29'>30</a>\u001b[0m     a_frame \u001b[39m=\u001b[39m [\u001b[39mfloat\u001b[39m(a_frame[\u001b[39m0\u001b[39m]), \u001b[39mfloat\u001b[39m(a_frame[\u001b[39m1\u001b[39m])]\n",
      "\u001b[1;32md:\\Work\\theormech.hw\\RHW1\\rhw1.ipynb Ячейка 7\u001b[0m in \u001b[0;36mcar\u001b[1;34m(frame, pos)\u001b[0m\n\u001b[0;32m     <a href='vscode-notebook-cell:/d%3A/Work/theormech.hw/RHW1/rhw1.ipynb#W6sZmlsZQ%3D%3D?line=46'>47</a>\u001b[0m tau \u001b[39m=\u001b[39m tau \u001b[39m/\u001b[39m sp\u001b[39m.\u001b[39msqrt(np\u001b[39m.\u001b[39mdot(tau, tau))\n\u001b[0;32m     <a href='vscode-notebook-cell:/d%3A/Work/theormech.hw/RHW1/rhw1.ipynb#W6sZmlsZQ%3D%3D?line=48'>49</a>\u001b[0m V_t \u001b[39m=\u001b[39m v_max \u001b[39m*\u001b[39m tau\n\u001b[1;32m---> <a href='vscode-notebook-cell:/d%3A/Work/theormech.hw/RHW1/rhw1.ipynb#W6sZmlsZQ%3D%3D?line=49'>50</a>\u001b[0m V \u001b[39m=\u001b[39m v_max \u001b[39m*\u001b[39;49m tau\n\u001b[0;32m     <a href='vscode-notebook-cell:/d%3A/Work/theormech.hw/RHW1/rhw1.ipynb#W6sZmlsZQ%3D%3D?line=51'>52</a>\u001b[0m a_t \u001b[39m=\u001b[39m sp\u001b[39m.\u001b[39mdiff(V_t[\u001b[39m0\u001b[39m])\u001b[39m.\u001b[39msubs(t, frame), sp\u001b[39m.\u001b[39mdiff(V_t[\u001b[39m1\u001b[39m])\u001b[39m.\u001b[39msubs(t, frame)\n\u001b[0;32m     <a href='vscode-notebook-cell:/d%3A/Work/theormech.hw/RHW1/rhw1.ipynb#W6sZmlsZQ%3D%3D?line=52'>53</a>\u001b[0m at_t \u001b[39m=\u001b[39m np\u001b[39m.\u001b[39mdot(a_t, tau\u001b[39m.\u001b[39msubs(t, \u001b[39m2\u001b[39m \u001b[39m*\u001b[39m pos[\u001b[39m0\u001b[39m])) \u001b[39m*\u001b[39m tau\u001b[39m.\u001b[39msubs(t, \u001b[39m2\u001b[39m \u001b[39m*\u001b[39m pos[\u001b[39m0\u001b[39m])\n",
      "File \u001b[1;32md:\\Programs\\Anaconda\\lib\\site-packages\\sympy\\geometry\\point.py:284\u001b[0m, in \u001b[0;36mPoint.__rmul__\u001b[1;34m(self, factor)\u001b[0m\n\u001b[0;32m    282\u001b[0m \u001b[39mdef\u001b[39;00m \u001b[39m__rmul__\u001b[39m(\u001b[39mself\u001b[39m, factor):\n\u001b[0;32m    283\u001b[0m     \u001b[39m\"\"\"Multiply a factor by point's coordinates.\"\"\"\u001b[39;00m\n\u001b[1;32m--> 284\u001b[0m     \u001b[39mreturn\u001b[39;00m \u001b[39mself\u001b[39;49m\u001b[39m.\u001b[39;49m\u001b[39m__mul__\u001b[39;49m(factor)\n",
      "File \u001b[1;32md:\\Programs\\Anaconda\\lib\\site-packages\\sympy\\geometry\\point.py:279\u001b[0m, in \u001b[0;36mPoint.__mul__\u001b[1;34m(self, factor)\u001b[0m\n\u001b[0;32m    252\u001b[0m \u001b[39m\"\"\"Multiply point's coordinates by a factor.\u001b[39;00m\n\u001b[0;32m    253\u001b[0m \n\u001b[0;32m    254\u001b[0m \u001b[39mNotes\u001b[39;00m\n\u001b[1;32m   (...)\u001b[0m\n\u001b[0;32m    276\u001b[0m \u001b[39msympy.geometry.point.Point.scale\u001b[39;00m\n\u001b[0;32m    277\u001b[0m \u001b[39m\"\"\"\u001b[39;00m\n\u001b[0;32m    278\u001b[0m factor \u001b[39m=\u001b[39m sympify(factor)\n\u001b[1;32m--> 279\u001b[0m coords \u001b[39m=\u001b[39m [simplify(x\u001b[39m*\u001b[39mfactor) \u001b[39mfor\u001b[39;00m x \u001b[39min\u001b[39;00m \u001b[39mself\u001b[39m\u001b[39m.\u001b[39margs]\n\u001b[0;32m    280\u001b[0m \u001b[39mreturn\u001b[39;00m Point(coords, evaluate\u001b[39m=\u001b[39m\u001b[39mFalse\u001b[39;00m)\n",
      "File \u001b[1;32md:\\Programs\\Anaconda\\lib\\site-packages\\sympy\\geometry\\point.py:279\u001b[0m, in \u001b[0;36m<listcomp>\u001b[1;34m(.0)\u001b[0m\n\u001b[0;32m    252\u001b[0m \u001b[39m\"\"\"Multiply point's coordinates by a factor.\u001b[39;00m\n\u001b[0;32m    253\u001b[0m \n\u001b[0;32m    254\u001b[0m \u001b[39mNotes\u001b[39;00m\n\u001b[1;32m   (...)\u001b[0m\n\u001b[0;32m    276\u001b[0m \u001b[39msympy.geometry.point.Point.scale\u001b[39;00m\n\u001b[0;32m    277\u001b[0m \u001b[39m\"\"\"\u001b[39;00m\n\u001b[0;32m    278\u001b[0m factor \u001b[39m=\u001b[39m sympify(factor)\n\u001b[1;32m--> 279\u001b[0m coords \u001b[39m=\u001b[39m [simplify(x\u001b[39m*\u001b[39;49mfactor) \u001b[39mfor\u001b[39;00m x \u001b[39min\u001b[39;00m \u001b[39mself\u001b[39m\u001b[39m.\u001b[39margs]\n\u001b[0;32m    280\u001b[0m \u001b[39mreturn\u001b[39;00m Point(coords, evaluate\u001b[39m=\u001b[39m\u001b[39mFalse\u001b[39;00m)\n",
      "File \u001b[1;32md:\\Programs\\Anaconda\\lib\\site-packages\\sympy\\simplify\\simplify.py:701\u001b[0m, in \u001b[0;36msimplify\u001b[1;34m(expr, ratio, measure, rational, inverse, doit, **kwargs)\u001b[0m\n\u001b[0;32m    698\u001b[0m     expr \u001b[39m=\u001b[39m besselsimp(expr)\n\u001b[0;32m    700\u001b[0m \u001b[39mif\u001b[39;00m expr\u001b[39m.\u001b[39mhas(TrigonometricFunction, HyperbolicFunction):\n\u001b[1;32m--> 701\u001b[0m     expr \u001b[39m=\u001b[39m trigsimp(expr, deep\u001b[39m=\u001b[39;49m\u001b[39mTrue\u001b[39;49;00m)\n\u001b[0;32m    703\u001b[0m \u001b[39mif\u001b[39;00m expr\u001b[39m.\u001b[39mhas(log):\n\u001b[0;32m    704\u001b[0m     expr \u001b[39m=\u001b[39m shorter(expand_log(expr, deep\u001b[39m=\u001b[39m\u001b[39mTrue\u001b[39;00m), logcombine(expr))\n",
      "File \u001b[1;32md:\\Programs\\Anaconda\\lib\\site-packages\\sympy\\simplify\\trigsimp.py:513\u001b[0m, in \u001b[0;36mtrigsimp\u001b[1;34m(expr, **opts)\u001b[0m\n\u001b[0;32m    502\u001b[0m     \u001b[39mreturn\u001b[39;00m trigsimp_groebner(new, \u001b[39m*\u001b[39m\u001b[39m*\u001b[39mopts)\n\u001b[0;32m    504\u001b[0m trigsimpfunc \u001b[39m=\u001b[39m {\n\u001b[0;32m    505\u001b[0m     \u001b[39m'\u001b[39m\u001b[39mfu\u001b[39m\u001b[39m'\u001b[39m: (\u001b[39mlambda\u001b[39;00m x: fu(x, \u001b[39m*\u001b[39m\u001b[39m*\u001b[39mopts)),\n\u001b[0;32m    506\u001b[0m     \u001b[39m'\u001b[39m\u001b[39mmatching\u001b[39m\u001b[39m'\u001b[39m: (\u001b[39mlambda\u001b[39;00m x: futrig(x)),\n\u001b[1;32m   (...)\u001b[0m\n\u001b[0;32m    510\u001b[0m     \u001b[39m'\u001b[39m\u001b[39mold\u001b[39m\u001b[39m'\u001b[39m: \u001b[39mlambda\u001b[39;00m x: trigsimp_old(x, \u001b[39m*\u001b[39m\u001b[39m*\u001b[39mopts),\n\u001b[0;32m    511\u001b[0m                }[method]\n\u001b[1;32m--> 513\u001b[0m \u001b[39mreturn\u001b[39;00m trigsimpfunc(expr)\n",
      "File \u001b[1;32md:\\Programs\\Anaconda\\lib\\site-packages\\sympy\\simplify\\trigsimp.py:506\u001b[0m, in \u001b[0;36mtrigsimp.<locals>.<lambda>\u001b[1;34m(x)\u001b[0m\n\u001b[0;32m    501\u001b[0m         \u001b[39mreturn\u001b[39;00m new\n\u001b[0;32m    502\u001b[0m     \u001b[39mreturn\u001b[39;00m trigsimp_groebner(new, \u001b[39m*\u001b[39m\u001b[39m*\u001b[39mopts)\n\u001b[0;32m    504\u001b[0m trigsimpfunc \u001b[39m=\u001b[39m {\n\u001b[0;32m    505\u001b[0m     \u001b[39m'\u001b[39m\u001b[39mfu\u001b[39m\u001b[39m'\u001b[39m: (\u001b[39mlambda\u001b[39;00m x: fu(x, \u001b[39m*\u001b[39m\u001b[39m*\u001b[39mopts)),\n\u001b[1;32m--> 506\u001b[0m     \u001b[39m'\u001b[39m\u001b[39mmatching\u001b[39m\u001b[39m'\u001b[39m: (\u001b[39mlambda\u001b[39;00m x: futrig(x)),\n\u001b[0;32m    507\u001b[0m     \u001b[39m'\u001b[39m\u001b[39mgroebner\u001b[39m\u001b[39m'\u001b[39m: (\u001b[39mlambda\u001b[39;00m x: groebnersimp(x, \u001b[39m*\u001b[39m\u001b[39m*\u001b[39mopts)),\n\u001b[0;32m    508\u001b[0m     \u001b[39m'\u001b[39m\u001b[39mcombined\u001b[39m\u001b[39m'\u001b[39m: (\u001b[39mlambda\u001b[39;00m x: futrig(groebnersimp(x,\n\u001b[0;32m    509\u001b[0m                            polynomial\u001b[39m=\u001b[39m\u001b[39mTrue\u001b[39;00m, hints\u001b[39m=\u001b[39m[\u001b[39m2\u001b[39m, tan]))),\n\u001b[0;32m    510\u001b[0m     \u001b[39m'\u001b[39m\u001b[39mold\u001b[39m\u001b[39m'\u001b[39m: \u001b[39mlambda\u001b[39;00m x: trigsimp_old(x, \u001b[39m*\u001b[39m\u001b[39m*\u001b[39mopts),\n\u001b[0;32m    511\u001b[0m                }[method]\n\u001b[0;32m    513\u001b[0m \u001b[39mreturn\u001b[39;00m trigsimpfunc(expr)\n",
      "File \u001b[1;32md:\\Programs\\Anaconda\\lib\\site-packages\\sympy\\simplify\\trigsimp.py:1103\u001b[0m, in \u001b[0;36mfutrig\u001b[1;34m(e, hyper, **kwargs)\u001b[0m\n\u001b[0;32m   1100\u001b[0m     \u001b[39mreturn\u001b[39;00m e\n\u001b[0;32m   1102\u001b[0m old \u001b[39m=\u001b[39m e\n\u001b[1;32m-> 1103\u001b[0m e \u001b[39m=\u001b[39m bottom_up(e, _futrig)\n\u001b[0;32m   1105\u001b[0m \u001b[39mif\u001b[39;00m hyper \u001b[39mand\u001b[39;00m e\u001b[39m.\u001b[39mhas(HyperbolicFunction):\n\u001b[0;32m   1106\u001b[0m     e, f \u001b[39m=\u001b[39m hyper_as_trig(e)\n",
      "File \u001b[1;32md:\\Programs\\Anaconda\\lib\\site-packages\\sympy\\core\\traversal.py:241\u001b[0m, in \u001b[0;36mbottom_up\u001b[1;34m(rv, F, atoms, nonbasic)\u001b[0m\n\u001b[0;32m    239\u001b[0m \u001b[39mif\u001b[39;00m args \u001b[39mis\u001b[39;00m \u001b[39mnot\u001b[39;00m \u001b[39mNone\u001b[39;00m:\n\u001b[0;32m    240\u001b[0m     \u001b[39mif\u001b[39;00m args:\n\u001b[1;32m--> 241\u001b[0m         args \u001b[39m=\u001b[39m \u001b[39mtuple\u001b[39m([bottom_up(a, F, atoms, nonbasic) \u001b[39mfor\u001b[39;00m a \u001b[39min\u001b[39;00m args])\n\u001b[0;32m    242\u001b[0m         \u001b[39mif\u001b[39;00m args \u001b[39m!=\u001b[39m rv\u001b[39m.\u001b[39margs:\n\u001b[0;32m    243\u001b[0m             rv \u001b[39m=\u001b[39m rv\u001b[39m.\u001b[39mfunc(\u001b[39m*\u001b[39margs)\n",
      "File \u001b[1;32md:\\Programs\\Anaconda\\lib\\site-packages\\sympy\\core\\traversal.py:241\u001b[0m, in \u001b[0;36m<listcomp>\u001b[1;34m(.0)\u001b[0m\n\u001b[0;32m    239\u001b[0m \u001b[39mif\u001b[39;00m args \u001b[39mis\u001b[39;00m \u001b[39mnot\u001b[39;00m \u001b[39mNone\u001b[39;00m:\n\u001b[0;32m    240\u001b[0m     \u001b[39mif\u001b[39;00m args:\n\u001b[1;32m--> 241\u001b[0m         args \u001b[39m=\u001b[39m \u001b[39mtuple\u001b[39m([bottom_up(a, F, atoms, nonbasic) \u001b[39mfor\u001b[39;00m a \u001b[39min\u001b[39;00m args])\n\u001b[0;32m    242\u001b[0m         \u001b[39mif\u001b[39;00m args \u001b[39m!=\u001b[39m rv\u001b[39m.\u001b[39margs:\n\u001b[0;32m    243\u001b[0m             rv \u001b[39m=\u001b[39m rv\u001b[39m.\u001b[39mfunc(\u001b[39m*\u001b[39margs)\n",
      "File \u001b[1;32md:\\Programs\\Anaconda\\lib\\site-packages\\sympy\\core\\traversal.py:241\u001b[0m, in \u001b[0;36mbottom_up\u001b[1;34m(rv, F, atoms, nonbasic)\u001b[0m\n\u001b[0;32m    239\u001b[0m \u001b[39mif\u001b[39;00m args \u001b[39mis\u001b[39;00m \u001b[39mnot\u001b[39;00m \u001b[39mNone\u001b[39;00m:\n\u001b[0;32m    240\u001b[0m     \u001b[39mif\u001b[39;00m args:\n\u001b[1;32m--> 241\u001b[0m         args \u001b[39m=\u001b[39m \u001b[39mtuple\u001b[39m([bottom_up(a, F, atoms, nonbasic) \u001b[39mfor\u001b[39;00m a \u001b[39min\u001b[39;00m args])\n\u001b[0;32m    242\u001b[0m         \u001b[39mif\u001b[39;00m args \u001b[39m!=\u001b[39m rv\u001b[39m.\u001b[39margs:\n\u001b[0;32m    243\u001b[0m             rv \u001b[39m=\u001b[39m rv\u001b[39m.\u001b[39mfunc(\u001b[39m*\u001b[39margs)\n",
      "File \u001b[1;32md:\\Programs\\Anaconda\\lib\\site-packages\\sympy\\core\\traversal.py:241\u001b[0m, in \u001b[0;36m<listcomp>\u001b[1;34m(.0)\u001b[0m\n\u001b[0;32m    239\u001b[0m \u001b[39mif\u001b[39;00m args \u001b[39mis\u001b[39;00m \u001b[39mnot\u001b[39;00m \u001b[39mNone\u001b[39;00m:\n\u001b[0;32m    240\u001b[0m     \u001b[39mif\u001b[39;00m args:\n\u001b[1;32m--> 241\u001b[0m         args \u001b[39m=\u001b[39m \u001b[39mtuple\u001b[39m([bottom_up(a, F, atoms, nonbasic) \u001b[39mfor\u001b[39;00m a \u001b[39min\u001b[39;00m args])\n\u001b[0;32m    242\u001b[0m         \u001b[39mif\u001b[39;00m args \u001b[39m!=\u001b[39m rv\u001b[39m.\u001b[39margs:\n\u001b[0;32m    243\u001b[0m             rv \u001b[39m=\u001b[39m rv\u001b[39m.\u001b[39mfunc(\u001b[39m*\u001b[39margs)\n",
      "File \u001b[1;32md:\\Programs\\Anaconda\\lib\\site-packages\\sympy\\core\\traversal.py:244\u001b[0m, in \u001b[0;36mbottom_up\u001b[1;34m(rv, F, atoms, nonbasic)\u001b[0m\n\u001b[0;32m    242\u001b[0m     \u001b[39mif\u001b[39;00m args \u001b[39m!=\u001b[39m rv\u001b[39m.\u001b[39margs:\n\u001b[0;32m    243\u001b[0m         rv \u001b[39m=\u001b[39m rv\u001b[39m.\u001b[39mfunc(\u001b[39m*\u001b[39margs)\n\u001b[1;32m--> 244\u001b[0m     rv \u001b[39m=\u001b[39m F(rv)\n\u001b[0;32m    245\u001b[0m \u001b[39melif\u001b[39;00m atoms:\n\u001b[0;32m    246\u001b[0m     rv \u001b[39m=\u001b[39m F(rv)\n",
      "File \u001b[1;32md:\\Programs\\Anaconda\\lib\\site-packages\\sympy\\simplify\\trigsimp.py:1170\u001b[0m, in \u001b[0;36m_futrig\u001b[1;34m(e)\u001b[0m\n\u001b[0;32m   1131\u001b[0m trigs \u001b[39m=\u001b[39m \u001b[39mlambda\u001b[39;00m x: x\u001b[39m.\u001b[39mhas(TrigonometricFunction)\n\u001b[0;32m   1133\u001b[0m tree \u001b[39m=\u001b[39m [identity,\n\u001b[0;32m   1134\u001b[0m     (\n\u001b[0;32m   1135\u001b[0m     TR3,  \u001b[39m# canonical angles\u001b[39;00m\n\u001b[1;32m   (...)\u001b[0m\n\u001b[0;32m   1168\u001b[0m         factor_terms, TR12(x), trigs)],  \u001b[39m# expand tan of sum\u001b[39;00m\n\u001b[0;32m   1169\u001b[0m     )]\n\u001b[1;32m-> 1170\u001b[0m e \u001b[39m=\u001b[39m greedy(tree, objective\u001b[39m=\u001b[39;49mLops)(e)\n\u001b[0;32m   1172\u001b[0m \u001b[39mif\u001b[39;00m coeff \u001b[39mis\u001b[39;00m \u001b[39mnot\u001b[39;00m \u001b[39mNone\u001b[39;00m:\n\u001b[0;32m   1173\u001b[0m     e \u001b[39m=\u001b[39m coeff \u001b[39m*\u001b[39m e\n",
      "File \u001b[1;32md:\\Programs\\Anaconda\\lib\\site-packages\\sympy\\strategies\\core.py:111\u001b[0m, in \u001b[0;36mminimize.<locals>.minrule\u001b[1;34m(expr)\u001b[0m\n\u001b[0;32m    110\u001b[0m \u001b[39mdef\u001b[39;00m \u001b[39mminrule\u001b[39m(expr):\n\u001b[1;32m--> 111\u001b[0m     \u001b[39mreturn\u001b[39;00m \u001b[39mmin\u001b[39m([rule(expr) \u001b[39mfor\u001b[39;00m rule \u001b[39min\u001b[39;00m rules], key\u001b[39m=\u001b[39mobjective)\n",
      "File \u001b[1;32md:\\Programs\\Anaconda\\lib\\site-packages\\sympy\\strategies\\core.py:111\u001b[0m, in \u001b[0;36m<listcomp>\u001b[1;34m(.0)\u001b[0m\n\u001b[0;32m    110\u001b[0m \u001b[39mdef\u001b[39;00m \u001b[39mminrule\u001b[39m(expr):\n\u001b[1;32m--> 111\u001b[0m     \u001b[39mreturn\u001b[39;00m \u001b[39mmin\u001b[39m([rule(expr) \u001b[39mfor\u001b[39;00m rule \u001b[39min\u001b[39;00m rules], key\u001b[39m=\u001b[39mobjective)\n",
      "File \u001b[1;32md:\\Programs\\Anaconda\\lib\\site-packages\\sympy\\strategies\\core.py:41\u001b[0m, in \u001b[0;36mchain.<locals>.chain_rl\u001b[1;34m(expr)\u001b[0m\n\u001b[0;32m     39\u001b[0m \u001b[39mdef\u001b[39;00m \u001b[39mchain_rl\u001b[39m(expr):\n\u001b[0;32m     40\u001b[0m     \u001b[39mfor\u001b[39;00m rule \u001b[39min\u001b[39;00m rules:\n\u001b[1;32m---> 41\u001b[0m         expr \u001b[39m=\u001b[39m rule(expr)\n\u001b[0;32m     42\u001b[0m     \u001b[39mreturn\u001b[39;00m expr\n",
      "File \u001b[1;32md:\\Programs\\Anaconda\\lib\\site-packages\\sympy\\simplify\\fu.py:755\u001b[0m, in \u001b[0;36mTR10i\u001b[1;34m(rv)\u001b[0m\n\u001b[0;32m    751\u001b[0m             \u001b[39mbreak\u001b[39;00m\n\u001b[0;32m    753\u001b[0m     \u001b[39mreturn\u001b[39;00m rv\n\u001b[1;32m--> 755\u001b[0m \u001b[39mreturn\u001b[39;00m bottom_up(rv, f)\n",
      "File \u001b[1;32md:\\Programs\\Anaconda\\lib\\site-packages\\sympy\\core\\traversal.py:244\u001b[0m, in \u001b[0;36mbottom_up\u001b[1;34m(rv, F, atoms, nonbasic)\u001b[0m\n\u001b[0;32m    242\u001b[0m     \u001b[39mif\u001b[39;00m args \u001b[39m!=\u001b[39m rv\u001b[39m.\u001b[39margs:\n\u001b[0;32m    243\u001b[0m         rv \u001b[39m=\u001b[39m rv\u001b[39m.\u001b[39mfunc(\u001b[39m*\u001b[39margs)\n\u001b[1;32m--> 244\u001b[0m     rv \u001b[39m=\u001b[39m F(rv)\n\u001b[0;32m    245\u001b[0m \u001b[39melif\u001b[39;00m atoms:\n\u001b[0;32m    246\u001b[0m     rv \u001b[39m=\u001b[39m F(rv)\n",
      "File \u001b[1;32md:\\Programs\\Anaconda\\lib\\site-packages\\sympy\\simplify\\fu.py:708\u001b[0m, in \u001b[0;36mTR10i.<locals>.f\u001b[1;34m(rv)\u001b[0m\n\u001b[0;32m    705\u001b[0m             \u001b[39mreturn\u001b[39;00m gcd\u001b[39m*\u001b[39msin(a \u001b[39m+\u001b[39m b)\n\u001b[0;32m    706\u001b[0m         \u001b[39mreturn\u001b[39;00m gcd\u001b[39m*\u001b[39msin(b \u001b[39m-\u001b[39m a)\n\u001b[1;32m--> 708\u001b[0m rv \u001b[39m=\u001b[39m process_common_addends(\n\u001b[0;32m    709\u001b[0m     rv, do, \u001b[39mlambda\u001b[39;49;00m x: \u001b[39mtuple\u001b[39;49m(ordered(x\u001b[39m.\u001b[39;49mfree_symbols)))\n\u001b[0;32m    711\u001b[0m \u001b[39m# need to check for inducible pairs in ratio of sqrt(3):1 that\u001b[39;00m\n\u001b[0;32m    712\u001b[0m \u001b[39m# appeared in different lists when sorting by coefficient\u001b[39;00m\n\u001b[0;32m    713\u001b[0m \u001b[39mwhile\u001b[39;00m rv\u001b[39m.\u001b[39mis_Add:\n",
      "File \u001b[1;32md:\\Programs\\Anaconda\\lib\\site-packages\\sympy\\simplify\\fu.py:1689\u001b[0m, in \u001b[0;36mprocess_common_addends\u001b[1;34m(rv, do, key2, key1)\u001b[0m\n\u001b[0;32m   1687\u001b[0m \u001b[39mif\u001b[39;00m \u001b[39mlen\u001b[39m(v) \u001b[39m>\u001b[39m \u001b[39m1\u001b[39m:\n\u001b[0;32m   1688\u001b[0m     e \u001b[39m=\u001b[39m Add(\u001b[39m*\u001b[39mv, evaluate\u001b[39m=\u001b[39m\u001b[39mFalse\u001b[39;00m)\n\u001b[1;32m-> 1689\u001b[0m     new \u001b[39m=\u001b[39m do(e)\n\u001b[0;32m   1690\u001b[0m     \u001b[39mif\u001b[39;00m new \u001b[39m!=\u001b[39m e:\n\u001b[0;32m   1691\u001b[0m         e \u001b[39m=\u001b[39m new\n",
      "File \u001b[1;32md:\\Programs\\Anaconda\\lib\\site-packages\\sympy\\simplify\\fu.py:691\u001b[0m, in \u001b[0;36mTR10i.<locals>.f.<locals>.do\u001b[1;34m(rv, first)\u001b[0m\n\u001b[0;32m    688\u001b[0m     \u001b[39mreturn\u001b[39;00m rv\n\u001b[0;32m    690\u001b[0m \u001b[39m# two-arg Add\u001b[39;00m\n\u001b[1;32m--> 691\u001b[0m split \u001b[39m=\u001b[39m trig_split(\u001b[39m*\u001b[39;49margs, two\u001b[39m=\u001b[39;49m\u001b[39mTrue\u001b[39;49;00m)\n\u001b[0;32m    692\u001b[0m \u001b[39mif\u001b[39;00m \u001b[39mnot\u001b[39;00m split:\n\u001b[0;32m    693\u001b[0m     \u001b[39mreturn\u001b[39;00m rv\n",
      "File \u001b[1;32md:\\Programs\\Anaconda\\lib\\site-packages\\sympy\\simplify\\fu.py:1780\u001b[0m, in \u001b[0;36mtrig_split\u001b[1;34m(a, b, two)\u001b[0m\n\u001b[0;32m   1778\u001b[0m     ub \u001b[39m=\u001b[39m ub\u001b[39m.\u001b[39mquo(S\u001b[39m.\u001b[39mNegativeOne)\n\u001b[0;32m   1779\u001b[0m     n2 \u001b[39m=\u001b[39m \u001b[39m-\u001b[39mn2\n\u001b[1;32m-> 1780\u001b[0m a, b \u001b[39m=\u001b[39m [i\u001b[39m.\u001b[39mas_expr() \u001b[39mfor\u001b[39;00m i \u001b[39min\u001b[39;00m (ua, ub)]\n\u001b[0;32m   1782\u001b[0m \u001b[39mdef\u001b[39;00m \u001b[39mpow_cos_sin\u001b[39m(a, two):\n\u001b[0;32m   1783\u001b[0m     \u001b[39m\"\"\"Return ``a`` as a tuple (r, c, s) such that\u001b[39;00m\n\u001b[0;32m   1784\u001b[0m \u001b[39m    ``a = (r or 1)*(c or 1)*(s or 1)``.\u001b[39;00m\n\u001b[0;32m   1785\u001b[0m \n\u001b[1;32m   (...)\u001b[0m\n\u001b[0;32m   1800\u001b[0m \u001b[39m    is returned.\u001b[39;00m\n\u001b[0;32m   1801\u001b[0m \u001b[39m    \"\"\"\u001b[39;00m\n",
      "File \u001b[1;32md:\\Programs\\Anaconda\\lib\\site-packages\\sympy\\simplify\\fu.py:1780\u001b[0m, in \u001b[0;36m<listcomp>\u001b[1;34m(.0)\u001b[0m\n\u001b[0;32m   1778\u001b[0m     ub \u001b[39m=\u001b[39m ub\u001b[39m.\u001b[39mquo(S\u001b[39m.\u001b[39mNegativeOne)\n\u001b[0;32m   1779\u001b[0m     n2 \u001b[39m=\u001b[39m \u001b[39m-\u001b[39mn2\n\u001b[1;32m-> 1780\u001b[0m a, b \u001b[39m=\u001b[39m [i\u001b[39m.\u001b[39;49mas_expr() \u001b[39mfor\u001b[39;00m i \u001b[39min\u001b[39;00m (ua, ub)]\n\u001b[0;32m   1782\u001b[0m \u001b[39mdef\u001b[39;00m \u001b[39mpow_cos_sin\u001b[39m(a, two):\n\u001b[0;32m   1783\u001b[0m     \u001b[39m\"\"\"Return ``a`` as a tuple (r, c, s) such that\u001b[39;00m\n\u001b[0;32m   1784\u001b[0m \u001b[39m    ``a = (r or 1)*(c or 1)*(s or 1)``.\u001b[39;00m\n\u001b[0;32m   1785\u001b[0m \n\u001b[1;32m   (...)\u001b[0m\n\u001b[0;32m   1800\u001b[0m \u001b[39m    is returned.\u001b[39;00m\n\u001b[0;32m   1801\u001b[0m \u001b[39m    \"\"\"\u001b[39;00m\n",
      "File \u001b[1;32md:\\Programs\\Anaconda\\lib\\site-packages\\sympy\\core\\exprtools.py:461\u001b[0m, in \u001b[0;36mFactors.as_expr\u001b[1;34m(self)\u001b[0m\n\u001b[0;32m    459\u001b[0m     \u001b[39melse\u001b[39;00m:\n\u001b[0;32m    460\u001b[0m         args\u001b[39m.\u001b[39mappend(factor)\n\u001b[1;32m--> 461\u001b[0m \u001b[39mreturn\u001b[39;00m Mul(\u001b[39m*\u001b[39;49margs)\n",
      "File \u001b[1;32md:\\Programs\\Anaconda\\lib\\site-packages\\sympy\\core\\cache.py:70\u001b[0m, in \u001b[0;36m__cacheit.<locals>.func_wrapper.<locals>.wrapper\u001b[1;34m(*args, **kwargs)\u001b[0m\n\u001b[0;32m     67\u001b[0m \u001b[39m@wraps\u001b[39m(func)\n\u001b[0;32m     68\u001b[0m \u001b[39mdef\u001b[39;00m \u001b[39mwrapper\u001b[39m(\u001b[39m*\u001b[39margs, \u001b[39m*\u001b[39m\u001b[39m*\u001b[39mkwargs):\n\u001b[0;32m     69\u001b[0m     \u001b[39mtry\u001b[39;00m:\n\u001b[1;32m---> 70\u001b[0m         retval \u001b[39m=\u001b[39m cfunc(\u001b[39m*\u001b[39margs, \u001b[39m*\u001b[39m\u001b[39m*\u001b[39mkwargs)\n\u001b[0;32m     71\u001b[0m     \u001b[39mexcept\u001b[39;00m \u001b[39mTypeError\u001b[39;00m \u001b[39mas\u001b[39;00m e:\n\u001b[0;32m     72\u001b[0m         \u001b[39mif\u001b[39;00m \u001b[39mnot\u001b[39;00m e\u001b[39m.\u001b[39margs \u001b[39mor\u001b[39;00m \u001b[39mnot\u001b[39;00m e\u001b[39m.\u001b[39margs[\u001b[39m0\u001b[39m]\u001b[39m.\u001b[39mstartswith(\u001b[39m'\u001b[39m\u001b[39munhashable type:\u001b[39m\u001b[39m'\u001b[39m):\n",
      "File \u001b[1;32md:\\Programs\\Anaconda\\lib\\site-packages\\sympy\\core\\basic.py:148\u001b[0m, in \u001b[0;36mBasic.__hash__\u001b[1;34m(self)\u001b[0m\n\u001b[0;32m    145\u001b[0m         \u001b[39mraise\u001b[39;00m \u001b[39mNotImplementedError\u001b[39;00m(msg)\n\u001b[0;32m    146\u001b[0m     \u001b[39mreturn\u001b[39;00m \u001b[39msuper\u001b[39m()\u001b[39m.\u001b[39m__reduce_ex__(protocol)\n\u001b[1;32m--> 148\u001b[0m \u001b[39mdef\u001b[39;00m \u001b[39m__hash__\u001b[39m(\u001b[39mself\u001b[39m) \u001b[39m-\u001b[39m\u001b[39m>\u001b[39m \u001b[39mint\u001b[39m:\n\u001b[0;32m    149\u001b[0m     \u001b[39m# hash cannot be cached using cache_it because infinite recurrence\u001b[39;00m\n\u001b[0;32m    150\u001b[0m     \u001b[39m# occurs as hash is needed for setting cache dictionary keys\u001b[39;00m\n\u001b[0;32m    151\u001b[0m     h \u001b[39m=\u001b[39m \u001b[39mself\u001b[39m\u001b[39m.\u001b[39m_mhash\n\u001b[0;32m    152\u001b[0m     \u001b[39mif\u001b[39;00m h \u001b[39mis\u001b[39;00m \u001b[39mNone\u001b[39;00m:\n",
      "\u001b[1;31mKeyboardInterrupt\u001b[0m: "
     ]
    },
    {
     "data": {
      "image/png": "[encoded data removed]",
      "text/plain": [
       "<Figure size 432x288 with 1 Axes>"
      ]
     },
     "metadata": {
      "needs_background": "light"
     },
     "output_type": "display_data"
    }
   ],
   "source": [
    "fig, ax = plt.subplots()\n",
    "ax.set_aspect(\"equal\")\n",
    "xdata, ydata = [], []\n",
    "ln, = plt.plot([], [], 'r-')\n",
    "\n",
    "vecs = []\n",
    "lines = []\n",
    "\n",
    "car_pos = [float(x.subs(t, t_start).evalf()), float(y_x.subs(t, t_start).evalf())]\n",
    "\n",
    "def fill_path():\n",
    "    for frame in np.linspace(x_min, x_max, steps):\n",
    "        xdata.append(x.subs(t, 2 * frame))\n",
    "        ydata.append(y_x.subs(t, 2 * frame))\n",
    "\n",
    "    ln.set_data(xdata, ydata)\n",
    "\n",
    "fill_path()\n",
    "\n",
    "def init_task1():\n",
    "    ax.set_xlim(-0.5, 4.5)\n",
    "    ax.set_ylim(-1.5, 1.5)\n",
    "    return ln,\n",
    "\n",
    "def update_task1(frame):\n",
    "\n",
    "    [V_frame, a_frame, at_frame, an_frame] = car(frame, car_pos)\n",
    "    \n",
    "    V_frame = [float(V_frame[0]), float(V_frame[1])]\n",
    "    a_frame = [float(a_frame[0]), float(a_frame[1])]\n",
    "    at_frame = [float(at_frame[0]), float(at_frame[1])]\n",
    "    an_frame = [float(an_frame[0]), float(an_frame[1])]\n",
    "\n",
    "    while len(vecs):\n",
    "        vecs[-1].remove()\n",
    "        vecs.pop()\n",
    "\n",
    "    while len(lines):\n",
    "        lines[-1][0].remove()\n",
    "        lines.pop()\n",
    " \n",
    "    vecs.extend([\n",
    "        plt.quiver(car_pos[0], car_pos[1], float(i[0]), float(i[1]), color=color, scale=2, units='xy', scale_units='xy', angles='xy')\n",
    "        for i, color in zip([V_frame, a_frame, at_frame, an_frame], ['black', 'green', 'red', 'blue'])\n",
    "    ])\n",
    "    temp = [car_pos[0] + V_frame[0] * dt, car_pos[1] + V_frame[1] * dt]\n",
    "    car_pos.clear()\n",
    "    car_pos.extend(temp)\n",
    "    #lines.append(plt.plot([car_pos[0], car_pos[0] + car_v[0]], [car_pos[1], car_pos[1] + car_v[1]]))\n",
    "\n",
    "    \n",
    "    \n",
    "\n",
    "    ln.set_data(xdata, ydata)\n",
    "    return ln,\n",
    "\n",
    "anim = FuncAnimation(fig, update_task1, frames=np.linspace(t_start, t_end, steps), init_func=init_task1, blit=True)\n",
    "\n",
    "anim.save('sim.gif', dpi=100, writer=PillowWriter(fps=60))\n",
    "plt.close('all')"
   ]
  },
  {
   "cell_type": "code",
   "execution_count": null,
   "metadata": {},
   "outputs": [],
   "source": []
  }
 ],
 "metadata": {
  "kernelspec": {
   "display_name": "Python 3.9.12 ('base')",
   "language": "python",
   "name": "python3"
  },
  "language_info": {
   "codemirror_mode": {
    "name": "ipython",
    "version": 3
   },
   "file_extension": ".py",
   "mimetype": "text/x-python",
   "name": "python",
   "nbconvert_exporter": "python",
   "pygments_lexer": "ipython3",
   "version": "3.9.12"
  },
  "orig_nbformat": 4,
  "vscode": {
   "interpreter": {
    "hash": "690fcc030dbde6f3f652c519b06a0d95da528e66105ed58c88e506e5818277cb"
   }
  }
 },
 "nbformat": 4,
 "nbformat_minor": 2
}
