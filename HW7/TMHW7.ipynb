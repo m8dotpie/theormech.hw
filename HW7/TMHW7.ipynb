{
 "cells": [
  {
   "cell_type": "code",
   "execution_count": 2,
   "metadata": {},
   "outputs": [],
   "source": [
    "import numpy as np\n",
    "import sympy as sp\n",
    "import matplotlib.pyplot as plt\n",
    "from scipy.integrate import ode\n",
    "from sympy import Symbol, Point2D, Point3D, Derivative, Function\n",
    "from matplotlib.animation import FuncAnimation, PillowWriter\n",
    "from matplotlib.patches import Polygon, Circle"
   ]
  },
  {
   "cell_type": "code",
   "execution_count": 3,
   "metadata": {},
   "outputs": [],
   "source": [
    "\n",
    "class SimPlot:\n",
    "    fig, ax = None, None\n",
    "\n",
    "    lines = []\n",
    "    titles = []\n",
    "    points = []\n",
    "    vectors = []\n",
    "    patches = []\n",
    "\n",
    "    def __init__(self, xlim, ylim):\n",
    "        self.fig, self.ax = plt.subplots()\n",
    "        self.ax.set_xlim(xlim[0], xlim[1])\n",
    "        self.ax.set_ylim(ylim[0], ylim[1])\n",
    "        self.ax.set_aspect(\"equal\")\n",
    "\n",
    "    def plot_lines(self, in_lines, in_colors=[]):\n",
    "        colors = in_colors + ['black'] * (len(in_lines) - len(in_colors))\n",
    "\n",
    "        self.lines.extend([\n",
    "            plt.plot([u[0], v[0]], [u[1], v[1]], color=color)\n",
    "            for [u, v], color in zip(in_lines, colors)\n",
    "        ])\n",
    "\n",
    "    def plot_points(self, in_points, in_sizes=[], in_colors=[]):\n",
    "        colors = in_colors + ['black'] * (len(in_points) - len(in_colors))\n",
    "        sizes = in_sizes + [3] * (len(in_points) - len(in_sizes))\n",
    "        \n",
    "        self.points.extend([\n",
    "            plt.plot([x], [y], marker='o', markersize=size, color=color)\n",
    "            for [x, y], size, color in zip(in_points, sizes, colors)\n",
    "        ])\n",
    "\n",
    "    def plot_titles(self, coords, titles, ofx=0, ofy=0):\n",
    "        self.titles.extend([\n",
    "            self.ax.text(x + ofx, y + ofy, title)\n",
    "            for [x, y], title in zip(coords, titles)\n",
    "        ])\n",
    "\n",
    "    def plot_vectors(self, vectors_u, vectors_v, titles, scale=1, in_colors=[]):\n",
    "        colors = in_colors + ['black'] * (len(vectors_u) - len(in_colors))\n",
    "        self.vectors.extend([\n",
    "            plt.quiver(float(u[0]), float(u[1]), float(v[0]), float(v[1]), color=color, scale=scale, angles='xy', units='xy', scale_units='xy')\n",
    "            for u, v, color in zip(vectors_u, vectors_v, colors)\n",
    "        ])\n",
    "\n",
    "        self.plot_titles([u + v / scale for u, v in zip(vectors_u, vectors_v)], titles)\n",
    "\n",
    "    def add_patch(self, patch):\n",
    "        self.ax.add_patch(patch)\n",
    "        self.patches.append(patch)\n",
    "    \n",
    "\n",
    "    def clear_plot(self):\n",
    "        while len(self.lines):\n",
    "            self.lines[-1][0].remove()\n",
    "            self.lines.pop()\n",
    "\n",
    "        while len(self.titles):\n",
    "            self.titles[-1].remove()\n",
    "            self.titles.pop()\n",
    "\n",
    "        while len(self.points):\n",
    "            self.points[-1][0].remove()\n",
    "            self.points.pop()\n",
    "\n",
    "        while len(self.vectors):\n",
    "            self.vectors[-1].remove()\n",
    "            self.vectors.pop()\n",
    "\n",
    "        while len(self.patches):\n",
    "            self.patches[-1].remove()\n",
    "            self.patches.pop()"
   ]
  },
  {
   "cell_type": "markdown",
   "metadata": {},
   "source": [
    "![](assets/odesolve.PNG)"
   ]
  },
  {
   "cell_type": "code",
   "execution_count": 4,
   "metadata": {},
   "outputs": [],
   "source": [
    "t = Symbol('t')\n",
    "x = Function('x')(t)\n",
    "xi = Function(r'\\xi')(t)"
   ]
  },
  {
   "cell_type": "code",
   "execution_count": 5,
   "metadata": {},
   "outputs": [],
   "source": [
    "ce = 0.000108108 * t"
   ]
  },
  {
   "cell_type": "code",
   "execution_count": 6,
   "metadata": {},
   "outputs": [],
   "source": [
    "x = 5.96046 * 1e-8 * sp.exp(-ce) * (4.94278 * 1e15 - 4.94278 * 1e15 * sp.exp(ce) + sp.exp(2 * ce) + 5.34354 * 1e11 * sp.exp(ce) * t)\n",
    "xi = 4.24352 * sp.exp(-ce) * (-6.0125 * 1e7 + 6.0125 * 1e7 * sp.exp(ce) + 7.02301 * 1e-9 * sp.exp(2 * ce) - 6499.29 * sp.exp(ce) * t + sp.exp(ce) * t**2)"
   ]
  },
  {
   "cell_type": "code",
   "execution_count": 7,
   "metadata": {},
   "outputs": [
    {
     "data": {
      "text/latex": [
       "$\\displaystyle 5.96046 \\cdot 10^{-8} \\cdot \\left(534354000000.0 t e^{0.000108108 t} - 4.94278 \\cdot 10^{15} e^{0.000108108 t} + e^{0.000216216 t} + 4.94278 \\cdot 10^{15}\\right) e^{- 0.000108108 t}$"
      ],
      "text/plain": [
       "5.96046e-8*(534354000000.0*t*exp(0.000108108*t) - 4.94278e+15*exp(0.000108108*t) + exp(0.000216216*t) + 4.94278e+15)*exp(-0.000108108*t)"
      ]
     },
     "metadata": {},
     "output_type": "display_data"
    },
    {
     "data": {
      "text/latex": [
       "$\\displaystyle 4.24352 \\left(t^{2} e^{0.000108108 t} - 6499.29 t e^{0.000108108 t} + 60125000.0 e^{0.000108108 t} + 7.02301 \\cdot 10^{-9} e^{0.000216216 t} - 60125000.0\\right) e^{- 0.000108108 t}$"
      ],
      "text/plain": [
       "4.24352*(t**2*exp(0.000108108*t) - 6499.29*t*exp(0.000108108*t) + 60125000.0*exp(0.000108108*t) + 7.02301e-9*exp(0.000216216*t) - 60125000.0)*exp(-0.000108108*t)"
      ]
     },
     "metadata": {},
     "output_type": "display_data"
    }
   ],
   "source": [
    "display(x, xi)"
   ]
  },
  {
   "cell_type": "markdown",
   "metadata": {},
   "source": [
    "![](assets/reduce.PNG)"
   ]
  },
  {
   "cell_type": "code",
   "execution_count": 8,
   "metadata": {},
   "outputs": [],
   "source": [
    "t_end = 0.47"
   ]
  },
  {
   "cell_type": "code",
   "execution_count": 10,
   "metadata": {},
   "outputs": [],
   "source": [
    "A = Point2D(x * sp.cos(sp.pi / 6), -x * sp.sin(sp.pi / 6))\n",
    "B = Point2D(A[0] + sp.sqrt(3) * sp.cos(sp.pi / 6), A[1] - sp.sqrt(3) * sp.sin(sp.pi / 6))\n",
    "C = Point2D(A[0] + sp.cos(sp.pi / 3), A[1] + sp.sin(sp.pi / 3))\n",
    "M = Point2D(C[0] + xi * sp.cos(sp.pi / 3), C[1] - xi * sp.sin(sp.pi / 3))"
   ]
  },
  {
   "cell_type": "code",
   "execution_count": 29,
   "metadata": {},
   "outputs": [],
   "source": [
    "r = 0.25"
   ]
  },
  {
   "cell_type": "code",
   "execution_count": 30,
   "metadata": {},
   "outputs": [],
   "source": [
    "O1 = Point2D(((B - A) / 4 + A)[0] - r * sp.cos(sp.pi / 3), ((B - A) / 4 + A)[1] - r * sp.sin(sp.pi / 3))\n",
    "O2 = Point2D((3 * (B - A) / 4 + A)[0] - r * sp.cos(sp.pi / 3), (3 * (B - A) / 4 + A)[1] - r * sp.sin(sp.pi / 3))"
   ]
  },
  {
   "cell_type": "code",
   "execution_count": 42,
   "metadata": {},
   "outputs": [],
   "source": [
    "W1 = Point2D(O1[0] + r * sp.cos(-sp.diff(x) / r), O1[1] + r * sp.sin(-sp.diff(x) / r))\n",
    "W2 = Point2D(O2[0] + r * sp.cos(-sp.diff(x) / r), O2[1] + r * sp.sin(-sp.diff(x) / r))"
   ]
  },
  {
   "cell_type": "code",
   "execution_count": 50,
   "metadata": {},
   "outputs": [],
   "source": [
    "L1 = Point2D(-2 * r * sp.cos(sp.pi / 3), -2 * r * sp.sin(sp.pi / 3))\n",
    "L2 = Point2D(-2 * r * sp.cos(sp.pi / 3) + 2.5 * sp.cos(sp.pi / 6), -2 * r * sp.sin(sp.pi / 3) - 2.5 * sp.sin(sp.pi / 6))\n",
    "L3 = Point2D(L1[0], L2[1])"
   ]
  },
  {
   "cell_type": "code",
   "execution_count": 51,
   "metadata": {},
   "outputs": [],
   "source": [
    "model = SimPlot([-1, 2], [-2, 1])\n",
    "\n",
    "model.ax.axis('off')\n",
    "\n",
    "ln, = plt.plot([], [], 'b--')\n",
    "\n",
    "def update_anim(frame):\n",
    "    [A_frame, B_frame, C_frame] = [P.subs(t, frame).evalf() for P in [A, B, C]]\n",
    "    M_frame = M.subs(t, frame).evalf()\n",
    "    [O1_frame, O2_frame] = [P.subs(t, frame).doit().evalf() for P in [O1, O2]]\n",
    "    [W1_frame, W2_frame] = [P.subs(t, frame).doit().evalf() for P in [W1, W2]]\n",
    "    [L1_frame, L2_frame, L3_frame] = [P.subs(t, frame).doit().evalf() for P in [L1, L2, L3]]\n",
    "\n",
    "    model.clear_plot()\n",
    "\n",
    "    model.add_patch(Polygon([A_frame, B_frame, C_frame], fill=False, hatch='//'))\n",
    "    model.add_patch(Circle(O1_frame, r, fill=False, color='black'))\n",
    "    model.add_patch(Circle(O2_frame, r, fill=False, color='black'))\n",
    "    model.plot_lines([[W1_frame, O1_frame], [W2_frame, O2_frame], [L1_frame, L2_frame], [L2_frame, L3_frame]])\n",
    "    model.plot_points([M_frame], in_sizes=[5], in_colors=['red'])\n",
    "    model.plot_titles([M_frame], ['M'], ofx=0.05)\n",
    "    return ln,\n",
    "\n",
    "t_end = float(t_end)\n",
    "frames = np.linspace(0, t_end, 100)\n",
    "\n",
    "anim = FuncAnimation(model.fig, update_anim, frames=frames, blit=True)\n",
    "anim.save('model.gif', dpi=100, writer=PillowWriter(fps=60))\n",
    "plt.close('all')"
   ]
  },
  {
   "cell_type": "code",
   "execution_count": 55,
   "metadata": {},
   "outputs": [
    {
     "data": {
      "image/png": "[encoded data removed]",
      "text/plain": [
       "<Figure size 432x288 with 1 Axes>"
      ]
     },
     "metadata": {
      "needs_background": "light"
     },
     "output_type": "display_data"
    }
   ],
   "source": [
    "fig = plt.subplot()\n",
    "\n",
    "plt.xlabel('t')\n",
    "plt.ylabel('f(t)')\n",
    "\n",
    "frames = np.linspace(0, 1, 200)\n",
    "xs = [x.subs(t, frame) for frame in frames]\n",
    "xis = [xi.subs(t, frame) for frame in frames]\n",
    "\n",
    "plt.plot(frames, xs, color='red', label='x')\n",
    "plt.plot(frames, xis, color='blue', label=r'$\\xi$')\n",
    "\n",
    "plt.grid()\n",
    "plt.legend()\n",
    "plt.savefig('xsxis.png')"
   ]
  },
  {
   "cell_type": "code",
   "execution_count": null,
   "metadata": {},
   "outputs": [],
   "source": []
  }
 ],
 "metadata": {
  "kernelspec": {
   "display_name": "Python 3.9.12 ('base')",
   "language": "python",
   "name": "python3"
  },
  "language_info": {
   "codemirror_mode": {
    "name": "ipython",
    "version": 3
   },
   "file_extension": ".py",
   "mimetype": "text/x-python",
   "name": "python",
   "nbconvert_exporter": "python",
   "pygments_lexer": "ipython3",
   "version": "3.9.12"
  },
  "orig_nbformat": 4,
  "vscode": {
   "interpreter": {
    "hash": "690fcc030dbde6f3f652c519b06a0d95da528e66105ed58c88e506e5818277cb"
   }
  }
 },
 "nbformat": 4,
 "nbformat_minor": 2
}
